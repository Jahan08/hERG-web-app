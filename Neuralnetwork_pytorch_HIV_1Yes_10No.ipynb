{
  "nbformat": 4,
  "nbformat_minor": 0,
  "metadata": {
    "colab": {
      "provenance": [],
      "authorship_tag": "ABX9TyPE5uqi7VblzTa8+yUGL9fn",
      "include_colab_link": true
    },
    "kernelspec": {
      "name": "python3",
      "display_name": "Python 3"
    },
    "language_info": {
      "name": "python"
    }
  },
  "cells": [
    {
      "cell_type": "markdown",
      "metadata": {
        "id": "view-in-github",
        "colab_type": "text"
      },
      "source": [
        "<a href=\"https://colab.research.google.com/github/Jahan08/hERG-web-app/blob/main/Neuralnetwork_pytorch_HIV_1Yes_10No.ipynb\" target=\"_parent\"><img src=\"https://colab.research.google.com/assets/colab-badge.svg\" alt=\"Open In Colab\"/></a>"
      ]
    },
    {
      "cell_type": "markdown",
      "source": [
        "## Installing required library and import fingerprints"
      ],
      "metadata": {
        "id": "TLywFqIvgF5E"
      }
    },
    {
      "cell_type": "code",
      "source": [
        "! pip install padelpy"
      ],
      "metadata": {
        "colab": {
          "base_uri": "https://localhost:8080/"
        },
        "id": "6s_ckXwtedAv",
        "outputId": "7f19fa9c-646d-4eb8-88db-05ffea1d2bb0"
      },
      "execution_count": 1,
      "outputs": [
        {
          "output_type": "stream",
          "name": "stdout",
          "text": [
            "Collecting padelpy\n",
            "  Downloading padelpy-0.1.14-py2.py3-none-any.whl (20.9 MB)\n",
            "\u001b[2K     \u001b[90m━━━━━━━━━━━━━━━━━━━━━━━━━━━━━━━━━━━━━━━━\u001b[0m \u001b[32m20.9/20.9 MB\u001b[0m \u001b[31m50.9 MB/s\u001b[0m eta \u001b[36m0:00:00\u001b[0m\n",
            "\u001b[?25hInstalling collected packages: padelpy\n",
            "Successfully installed padelpy-0.1.14\n"
          ]
        }
      ]
    },
    {
      "cell_type": "code",
      "source": [
        "! wget https://github.com/dataprofessor/padel/raw/main/fingerprints_xml.zip\n",
        "! unzip fingerprints_xml.zip"
      ],
      "metadata": {
        "colab": {
          "base_uri": "https://localhost:8080/"
        },
        "id": "S4y933zKegLe",
        "outputId": "86489941-cf3b-4d87-9e13-54854f9ea914"
      },
      "execution_count": 2,
      "outputs": [
        {
          "output_type": "stream",
          "name": "stdout",
          "text": [
            "--2023-08-04 16:56:21--  https://github.com/dataprofessor/padel/raw/main/fingerprints_xml.zip\n",
            "Resolving github.com (github.com)... 192.30.255.113\n",
            "Connecting to github.com (github.com)|192.30.255.113|:443... connected.\n",
            "HTTP request sent, awaiting response... 302 Found\n",
            "Location: https://raw.githubusercontent.com/dataprofessor/padel/main/fingerprints_xml.zip [following]\n",
            "--2023-08-04 16:56:21--  https://raw.githubusercontent.com/dataprofessor/padel/main/fingerprints_xml.zip\n",
            "Resolving raw.githubusercontent.com (raw.githubusercontent.com)... 185.199.110.133, 185.199.111.133, 185.199.108.133, ...\n",
            "Connecting to raw.githubusercontent.com (raw.githubusercontent.com)|185.199.110.133|:443... connected.\n",
            "HTTP request sent, awaiting response... 200 OK\n",
            "Length: 10871 (11K) [application/zip]\n",
            "Saving to: ‘fingerprints_xml.zip’\n",
            "\n",
            "fingerprints_xml.zi 100%[===================>]  10.62K  --.-KB/s    in 0s      \n",
            "\n",
            "2023-08-04 16:56:21 (58.4 MB/s) - ‘fingerprints_xml.zip’ saved [10871/10871]\n",
            "\n",
            "Archive:  fingerprints_xml.zip\n",
            "  inflating: AtomPairs2DFingerprintCount.xml  \n",
            "  inflating: AtomPairs2DFingerprinter.xml  \n",
            "  inflating: EStateFingerprinter.xml  \n",
            "  inflating: ExtendedFingerprinter.xml  \n",
            "  inflating: Fingerprinter.xml       \n",
            "  inflating: GraphOnlyFingerprinter.xml  \n",
            "  inflating: KlekotaRothFingerprintCount.xml  \n",
            "  inflating: KlekotaRothFingerprinter.xml  \n",
            "  inflating: MACCSFingerprinter.xml  \n",
            "  inflating: PubchemFingerprinter.xml  \n",
            "  inflating: SubstructureFingerprintCount.xml  \n",
            "  inflating: SubstructureFingerprinter.xml  \n"
          ]
        }
      ]
    },
    {
      "cell_type": "code",
      "source": [
        "import glob\n",
        "xml_files = glob.glob(\"*.xml\")\n",
        "xml_files.sort()\n",
        "xml_files"
      ],
      "metadata": {
        "colab": {
          "base_uri": "https://localhost:8080/"
        },
        "id": "_lneZiWYer9Y",
        "outputId": "b736c9a7-9c16-413a-bf41-d800df8c564e"
      },
      "execution_count": 3,
      "outputs": [
        {
          "output_type": "execute_result",
          "data": {
            "text/plain": [
              "['AtomPairs2DFingerprintCount.xml',\n",
              " 'AtomPairs2DFingerprinter.xml',\n",
              " 'EStateFingerprinter.xml',\n",
              " 'ExtendedFingerprinter.xml',\n",
              " 'Fingerprinter.xml',\n",
              " 'GraphOnlyFingerprinter.xml',\n",
              " 'KlekotaRothFingerprintCount.xml',\n",
              " 'KlekotaRothFingerprinter.xml',\n",
              " 'MACCSFingerprinter.xml',\n",
              " 'PubchemFingerprinter.xml',\n",
              " 'SubstructureFingerprintCount.xml',\n",
              " 'SubstructureFingerprinter.xml']"
            ]
          },
          "metadata": {},
          "execution_count": 3
        }
      ]
    },
    {
      "cell_type": "code",
      "source": [
        "FP_list = ['AtomPairs2DCount',\n",
        " 'AtomPairs2D',\n",
        " 'EState',\n",
        " 'Extended',\n",
        " 'CDKextended',\n",
        " 'CDK',\n",
        " 'CDKgraphonly',\n",
        " 'KlekotaRothCount',\n",
        " 'KlekotaRoth',\n",
        " 'MACCS',\n",
        " 'PubChem',\n",
        " 'SubstructureCount',\n",
        " 'Substructure']"
      ],
      "metadata": {
        "id": "jr-YS1EZevhA"
      },
      "execution_count": 4,
      "outputs": []
    },
    {
      "cell_type": "markdown",
      "source": [
        "## Creating a dictionary of the fingerprints"
      ],
      "metadata": {
        "id": "Nfp_xISAgTZQ"
      }
    },
    {
      "cell_type": "code",
      "source": [
        "fp = dict(zip(FP_list, xml_files))\n",
        "fp"
      ],
      "metadata": {
        "colab": {
          "base_uri": "https://localhost:8080/"
        },
        "id": "xMKak1n6ey3g",
        "outputId": "e77b94b4-1f62-47fd-bce1-677cd961f177"
      },
      "execution_count": 5,
      "outputs": [
        {
          "output_type": "execute_result",
          "data": {
            "text/plain": [
              "{'AtomPairs2DCount': 'AtomPairs2DFingerprintCount.xml',\n",
              " 'AtomPairs2D': 'AtomPairs2DFingerprinter.xml',\n",
              " 'EState': 'EStateFingerprinter.xml',\n",
              " 'Extended': 'ExtendedFingerprinter.xml',\n",
              " 'CDKextended': 'Fingerprinter.xml',\n",
              " 'CDK': 'GraphOnlyFingerprinter.xml',\n",
              " 'CDKgraphonly': 'KlekotaRothFingerprintCount.xml',\n",
              " 'KlekotaRothCount': 'KlekotaRothFingerprinter.xml',\n",
              " 'KlekotaRoth': 'MACCSFingerprinter.xml',\n",
              " 'MACCS': 'PubchemFingerprinter.xml',\n",
              " 'PubChem': 'SubstructureFingerprintCount.xml',\n",
              " 'SubstructureCount': 'SubstructureFingerprinter.xml'}"
            ]
          },
          "metadata": {},
          "execution_count": 5
        }
      ]
    },
    {
      "cell_type": "markdown",
      "source": [
        "## Load HIV dataset"
      ],
      "metadata": {
        "id": "4XX4NIFHgX77"
      }
    },
    {
      "cell_type": "code",
      "source": [
        "import pandas as pd\n",
        "\n",
        "df = pd.read_csv('/content/HIV-all-without-pubchem-Yes1-No10.csv')\n",
        "df.head(2)"
      ],
      "metadata": {
        "colab": {
          "base_uri": "https://localhost:8080/",
          "height": 112
        },
        "id": "cq8QS9OZe2Xx",
        "outputId": "32ae1b4c-b4ed-42b3-b5e1-3ee6fc4026df"
      },
      "execution_count": 6,
      "outputs": [
        {
          "output_type": "execute_result",
          "data": {
            "text/plain": [
              "                                              Smiles Activity  HIV_activity\n",
              "0  O=C(NCc1nccs1)c1[nH]c2ccc(Br)cc2c1S(=O)(=O)N1C...      Yes             1\n",
              "1    Cc1c(C(C)(C)C)s/c(=N\\S(=O)(=O)c2cc(Cl)ccc2N)n1C       No             0"
            ],
            "text/html": [
              "\n",
              "\n",
              "  <div id=\"df-3dc606fe-6d86-4809-8fa3-8549b29e0eda\">\n",
              "    <div class=\"colab-df-container\">\n",
              "      <div>\n",
              "<style scoped>\n",
              "    .dataframe tbody tr th:only-of-type {\n",
              "        vertical-align: middle;\n",
              "    }\n",
              "\n",
              "    .dataframe tbody tr th {\n",
              "        vertical-align: top;\n",
              "    }\n",
              "\n",
              "    .dataframe thead th {\n",
              "        text-align: right;\n",
              "    }\n",
              "</style>\n",
              "<table border=\"1\" class=\"dataframe\">\n",
              "  <thead>\n",
              "    <tr style=\"text-align: right;\">\n",
              "      <th></th>\n",
              "      <th>Smiles</th>\n",
              "      <th>Activity</th>\n",
              "      <th>HIV_activity</th>\n",
              "    </tr>\n",
              "  </thead>\n",
              "  <tbody>\n",
              "    <tr>\n",
              "      <th>0</th>\n",
              "      <td>O=C(NCc1nccs1)c1[nH]c2ccc(Br)cc2c1S(=O)(=O)N1C...</td>\n",
              "      <td>Yes</td>\n",
              "      <td>1</td>\n",
              "    </tr>\n",
              "    <tr>\n",
              "      <th>1</th>\n",
              "      <td>Cc1c(C(C)(C)C)s/c(=N\\S(=O)(=O)c2cc(Cl)ccc2N)n1C</td>\n",
              "      <td>No</td>\n",
              "      <td>0</td>\n",
              "    </tr>\n",
              "  </tbody>\n",
              "</table>\n",
              "</div>\n",
              "      <button class=\"colab-df-convert\" onclick=\"convertToInteractive('df-3dc606fe-6d86-4809-8fa3-8549b29e0eda')\"\n",
              "              title=\"Convert this dataframe to an interactive table.\"\n",
              "              style=\"display:none;\">\n",
              "\n",
              "  <svg xmlns=\"http://www.w3.org/2000/svg\" height=\"24px\"viewBox=\"0 0 24 24\"\n",
              "       width=\"24px\">\n",
              "    <path d=\"M0 0h24v24H0V0z\" fill=\"none\"/>\n",
              "    <path d=\"M18.56 5.44l.94 2.06.94-2.06 2.06-.94-2.06-.94-.94-2.06-.94 2.06-2.06.94zm-11 1L8.5 8.5l.94-2.06 2.06-.94-2.06-.94L8.5 2.5l-.94 2.06-2.06.94zm10 10l.94 2.06.94-2.06 2.06-.94-2.06-.94-.94-2.06-.94 2.06-2.06.94z\"/><path d=\"M17.41 7.96l-1.37-1.37c-.4-.4-.92-.59-1.43-.59-.52 0-1.04.2-1.43.59L10.3 9.45l-7.72 7.72c-.78.78-.78 2.05 0 2.83L4 21.41c.39.39.9.59 1.41.59.51 0 1.02-.2 1.41-.59l7.78-7.78 2.81-2.81c.8-.78.8-2.07 0-2.86zM5.41 20L4 18.59l7.72-7.72 1.47 1.35L5.41 20z\"/>\n",
              "  </svg>\n",
              "      </button>\n",
              "\n",
              "\n",
              "\n",
              "    <div id=\"df-039de943-c800-41f2-b3b4-c9342943a05d\">\n",
              "      <button class=\"colab-df-quickchart\" onclick=\"quickchart('df-039de943-c800-41f2-b3b4-c9342943a05d')\"\n",
              "              title=\"Suggest charts.\"\n",
              "              style=\"display:none;\">\n",
              "\n",
              "<svg xmlns=\"http://www.w3.org/2000/svg\" height=\"24px\"viewBox=\"0 0 24 24\"\n",
              "     width=\"24px\">\n",
              "    <g>\n",
              "        <path d=\"M19 3H5c-1.1 0-2 .9-2 2v14c0 1.1.9 2 2 2h14c1.1 0 2-.9 2-2V5c0-1.1-.9-2-2-2zM9 17H7v-7h2v7zm4 0h-2V7h2v10zm4 0h-2v-4h2v4z\"/>\n",
              "    </g>\n",
              "</svg>\n",
              "      </button>\n",
              "    </div>\n",
              "\n",
              "<style>\n",
              "  .colab-df-quickchart {\n",
              "    background-color: #E8F0FE;\n",
              "    border: none;\n",
              "    border-radius: 50%;\n",
              "    cursor: pointer;\n",
              "    display: none;\n",
              "    fill: #1967D2;\n",
              "    height: 32px;\n",
              "    padding: 0 0 0 0;\n",
              "    width: 32px;\n",
              "  }\n",
              "\n",
              "  .colab-df-quickchart:hover {\n",
              "    background-color: #E2EBFA;\n",
              "    box-shadow: 0px 1px 2px rgba(60, 64, 67, 0.3), 0px 1px 3px 1px rgba(60, 64, 67, 0.15);\n",
              "    fill: #174EA6;\n",
              "  }\n",
              "\n",
              "  [theme=dark] .colab-df-quickchart {\n",
              "    background-color: #3B4455;\n",
              "    fill: #D2E3FC;\n",
              "  }\n",
              "\n",
              "  [theme=dark] .colab-df-quickchart:hover {\n",
              "    background-color: #434B5C;\n",
              "    box-shadow: 0px 1px 3px 1px rgba(0, 0, 0, 0.15);\n",
              "    filter: drop-shadow(0px 1px 2px rgba(0, 0, 0, 0.3));\n",
              "    fill: #FFFFFF;\n",
              "  }\n",
              "</style>\n",
              "\n",
              "    <script>\n",
              "      async function quickchart(key) {\n",
              "        const containerElement = document.querySelector('#' + key);\n",
              "        const charts = await google.colab.kernel.invokeFunction(\n",
              "            'suggestCharts', [key], {});\n",
              "      }\n",
              "    </script>\n",
              "\n",
              "      <script>\n",
              "\n",
              "function displayQuickchartButton(domScope) {\n",
              "  let quickchartButtonEl =\n",
              "    domScope.querySelector('#df-039de943-c800-41f2-b3b4-c9342943a05d button.colab-df-quickchart');\n",
              "  quickchartButtonEl.style.display =\n",
              "    google.colab.kernel.accessAllowed ? 'block' : 'none';\n",
              "}\n",
              "\n",
              "        displayQuickchartButton(document);\n",
              "      </script>\n",
              "      <style>\n",
              "    .colab-df-container {\n",
              "      display:flex;\n",
              "      flex-wrap:wrap;\n",
              "      gap: 12px;\n",
              "    }\n",
              "\n",
              "    .colab-df-convert {\n",
              "      background-color: #E8F0FE;\n",
              "      border: none;\n",
              "      border-radius: 50%;\n",
              "      cursor: pointer;\n",
              "      display: none;\n",
              "      fill: #1967D2;\n",
              "      height: 32px;\n",
              "      padding: 0 0 0 0;\n",
              "      width: 32px;\n",
              "    }\n",
              "\n",
              "    .colab-df-convert:hover {\n",
              "      background-color: #E2EBFA;\n",
              "      box-shadow: 0px 1px 2px rgba(60, 64, 67, 0.3), 0px 1px 3px 1px rgba(60, 64, 67, 0.15);\n",
              "      fill: #174EA6;\n",
              "    }\n",
              "\n",
              "    [theme=dark] .colab-df-convert {\n",
              "      background-color: #3B4455;\n",
              "      fill: #D2E3FC;\n",
              "    }\n",
              "\n",
              "    [theme=dark] .colab-df-convert:hover {\n",
              "      background-color: #434B5C;\n",
              "      box-shadow: 0px 1px 3px 1px rgba(0, 0, 0, 0.15);\n",
              "      filter: drop-shadow(0px 1px 2px rgba(0, 0, 0, 0.3));\n",
              "      fill: #FFFFFF;\n",
              "    }\n",
              "  </style>\n",
              "\n",
              "      <script>\n",
              "        const buttonEl =\n",
              "          document.querySelector('#df-3dc606fe-6d86-4809-8fa3-8549b29e0eda button.colab-df-convert');\n",
              "        buttonEl.style.display =\n",
              "          google.colab.kernel.accessAllowed ? 'block' : 'none';\n",
              "\n",
              "        async function convertToInteractive(key) {\n",
              "          const element = document.querySelector('#df-3dc606fe-6d86-4809-8fa3-8549b29e0eda');\n",
              "          const dataTable =\n",
              "            await google.colab.kernel.invokeFunction('convertToInteractive',\n",
              "                                                     [key], {});\n",
              "          if (!dataTable) return;\n",
              "\n",
              "          const docLinkHtml = 'Like what you see? Visit the ' +\n",
              "            '<a target=\"_blank\" href=https://colab.research.google.com/notebooks/data_table.ipynb>data table notebook</a>'\n",
              "            + ' to learn more about interactive tables.';\n",
              "          element.innerHTML = '';\n",
              "          dataTable['output_type'] = 'display_data';\n",
              "          await google.colab.output.renderOutput(dataTable, element);\n",
              "          const docLink = document.createElement('div');\n",
              "          docLink.innerHTML = docLinkHtml;\n",
              "          element.appendChild(docLink);\n",
              "        }\n",
              "      </script>\n",
              "    </div>\n",
              "  </div>\n"
            ]
          },
          "metadata": {},
          "execution_count": 6
        }
      ]
    },
    {
      "cell_type": "markdown",
      "source": [
        "## creating .smi file and do the molecular description step"
      ],
      "metadata": {
        "id": "3Q2Rz8WKgdvR"
      }
    },
    {
      "cell_type": "code",
      "source": [
        "df1 = df['Smiles']\n",
        "df1.to_csv('molecule.smi', sep='\\t', index=False, header=False)\n",
        "df1"
      ],
      "metadata": {
        "colab": {
          "base_uri": "https://localhost:8080/"
        },
        "id": "qWao8w3zfJnY",
        "outputId": "17bb2969-53b4-4138-dbe2-a5a0287da785"
      },
      "execution_count": 10,
      "outputs": [
        {
          "output_type": "execute_result",
          "data": {
            "text/plain": [
              "0        O=C(NCc1nccs1)c1[nH]c2ccc(Br)cc2c1S(=O)(=O)N1C...\n",
              "1          Cc1c(C(C)(C)C)s/c(=N\\S(=O)(=O)c2cc(Cl)ccc2N)n1C\n",
              "2        Cc1cc(N2CC[S+]([O-])CC2)ccc1NC(=O)COc1ccc(Cl)c...\n",
              "3        O=C(COc1ccc(Cl)cc1C(=O)c1cc(F)cc(F)c1)Nc1ccc(C...\n",
              "4                 CCCOC(=O)N(C(=S)OC(C)COc1ccccc1)c1ccccc1\n",
              "                               ...                        \n",
              "10831    c1cc(C=CC(=S)O2)c2c(C(OC(C(OC3=O)(C(C)(C)C34C)...\n",
              "10832             N1C(=O)C(C)=CN(COCCCOCC(c2ccccc2)=O)C1=O\n",
              "10833    N1C(=O)C(C)=CN(C(O2)CC(N(O)C(CCC[Se]c3ccccc3)O...\n",
              "10834    N1C(=O)C(C)=CN(C(O2)CC(N(O)C(CCCC[Se]c3ccccc3)...\n",
              "10835    C1(NC(=O)C(C)=CN1C(O2)CC(N(O)C(CC[Se]C#N)OC3)C...\n",
              "Name: Smiles, Length: 10836, dtype: object"
            ]
          },
          "metadata": {},
          "execution_count": 10
        }
      ]
    },
    {
      "cell_type": "code",
      "source": [
        "from padelpy import padeldescriptor\n",
        "\n",
        "fingerprint = 'Extended'\n",
        "\n",
        "fingerprint_output_file = ''.join([fingerprint,'.csv']) #Substructure.csv\n",
        "fingerprint_descriptortypes = fp[fingerprint]\n",
        "\n",
        "padeldescriptor(mol_dir='molecule.smi',\n",
        "                d_file=fingerprint_output_file, #'Substructure.csv'\n",
        "                #descriptortypes='/content/ExtendedFingerprinter.xml',\n",
        "                descriptortypes= fingerprint_descriptortypes,\n",
        "                detectaromaticity=True,\n",
        "                standardizenitro=True,\n",
        "                standardizetautomers=True,\n",
        "                threads=2,\n",
        "                removesalt=True,\n",
        "                log=True,\n",
        "                fingerprints=True)"
      ],
      "metadata": {
        "id": "8scriO2afo7P"
      },
      "execution_count": 11,
      "outputs": []
    },
    {
      "cell_type": "markdown",
      "source": [
        "## Look into the descriptors"
      ],
      "metadata": {
        "id": "Q9n35zg7goxf"
      }
    },
    {
      "cell_type": "code",
      "source": [
        "descriptors = pd.read_csv('/content/Extended.csv')\n",
        "descriptors"
      ],
      "metadata": {
        "colab": {
          "base_uri": "https://localhost:8080/",
          "height": 488
        },
        "id": "SsEuWOdsf9Mt",
        "outputId": "9d96c80c-798b-44ae-ce9c-3dda19929095"
      },
      "execution_count": 12,
      "outputs": [
        {
          "output_type": "execute_result",
          "data": {
            "text/plain": [
              "                         Name  ExtFP1  ExtFP2  ExtFP3  ExtFP4  ExtFP5  ExtFP6  \\\n",
              "0          AUTOGEN_molecule_1       0       0       1       1       1       1   \n",
              "1          AUTOGEN_molecule_2       0       1       0       0       1       1   \n",
              "2          AUTOGEN_molecule_3       0       0       0       1       0       0   \n",
              "3          AUTOGEN_molecule_4       0       0       0       0       0       0   \n",
              "4          AUTOGEN_molecule_5       0       0       0       1       0       0   \n",
              "...                       ...     ...     ...     ...     ...     ...     ...   \n",
              "10831  AUTOGEN_molecule_10832       1       0       1       0       1       0   \n",
              "10832  AUTOGEN_molecule_10833       0       0       0       1       0       0   \n",
              "10833  AUTOGEN_molecule_10834       1       1       0       1       1       1   \n",
              "10834  AUTOGEN_molecule_10835       1       0       0       1       1       1   \n",
              "10835  AUTOGEN_molecule_10836       1       0       0       1       1       1   \n",
              "\n",
              "       ExtFP7  ExtFP8  ExtFP9  ...  ExtFP1015  ExtFP1016  ExtFP1017  \\\n",
              "0           0       0       0  ...          1          0          0   \n",
              "1           1       0       0  ...          0          0          0   \n",
              "2           1       0       0  ...          0          0          0   \n",
              "3           0       0       1  ...          0          0          0   \n",
              "4           0       0       0  ...          0          0          0   \n",
              "...       ...     ...     ...  ...        ...        ...        ...   \n",
              "10831       1       0       1  ...          1          1          0   \n",
              "10832       1       0       1  ...          0          0          0   \n",
              "10833       1       0       0  ...          1          0          0   \n",
              "10834       1       0       1  ...          1          0          0   \n",
              "10835       1       0       0  ...          1          0          0   \n",
              "\n",
              "       ExtFP1018  ExtFP1019  ExtFP1020  ExtFP1021  ExtFP1022  ExtFP1023  \\\n",
              "0              0          0          0          0          0          0   \n",
              "1              0          0          0          0          0          0   \n",
              "2              0          0          0          0          0          0   \n",
              "3              0          0          0          0          0          0   \n",
              "4              0          0          0          0          0          0   \n",
              "...          ...        ...        ...        ...        ...        ...   \n",
              "10831          0          0          0          0          0          0   \n",
              "10832          0          0          0          0          0          0   \n",
              "10833          0          0          0          0          0          0   \n",
              "10834          0          0          0          0          0          0   \n",
              "10835          0          0          0          0          0          0   \n",
              "\n",
              "       ExtFP1024  \n",
              "0              0  \n",
              "1              0  \n",
              "2              0  \n",
              "3              0  \n",
              "4              0  \n",
              "...          ...  \n",
              "10831          0  \n",
              "10832          0  \n",
              "10833          0  \n",
              "10834          0  \n",
              "10835          0  \n",
              "\n",
              "[10836 rows x 1025 columns]"
            ],
            "text/html": [
              "\n",
              "\n",
              "  <div id=\"df-382a17be-214e-431d-bb67-84f97d9224af\">\n",
              "    <div class=\"colab-df-container\">\n",
              "      <div>\n",
              "<style scoped>\n",
              "    .dataframe tbody tr th:only-of-type {\n",
              "        vertical-align: middle;\n",
              "    }\n",
              "\n",
              "    .dataframe tbody tr th {\n",
              "        vertical-align: top;\n",
              "    }\n",
              "\n",
              "    .dataframe thead th {\n",
              "        text-align: right;\n",
              "    }\n",
              "</style>\n",
              "<table border=\"1\" class=\"dataframe\">\n",
              "  <thead>\n",
              "    <tr style=\"text-align: right;\">\n",
              "      <th></th>\n",
              "      <th>Name</th>\n",
              "      <th>ExtFP1</th>\n",
              "      <th>ExtFP2</th>\n",
              "      <th>ExtFP3</th>\n",
              "      <th>ExtFP4</th>\n",
              "      <th>ExtFP5</th>\n",
              "      <th>ExtFP6</th>\n",
              "      <th>ExtFP7</th>\n",
              "      <th>ExtFP8</th>\n",
              "      <th>ExtFP9</th>\n",
              "      <th>...</th>\n",
              "      <th>ExtFP1015</th>\n",
              "      <th>ExtFP1016</th>\n",
              "      <th>ExtFP1017</th>\n",
              "      <th>ExtFP1018</th>\n",
              "      <th>ExtFP1019</th>\n",
              "      <th>ExtFP1020</th>\n",
              "      <th>ExtFP1021</th>\n",
              "      <th>ExtFP1022</th>\n",
              "      <th>ExtFP1023</th>\n",
              "      <th>ExtFP1024</th>\n",
              "    </tr>\n",
              "  </thead>\n",
              "  <tbody>\n",
              "    <tr>\n",
              "      <th>0</th>\n",
              "      <td>AUTOGEN_molecule_1</td>\n",
              "      <td>0</td>\n",
              "      <td>0</td>\n",
              "      <td>1</td>\n",
              "      <td>1</td>\n",
              "      <td>1</td>\n",
              "      <td>1</td>\n",
              "      <td>0</td>\n",
              "      <td>0</td>\n",
              "      <td>0</td>\n",
              "      <td>...</td>\n",
              "      <td>1</td>\n",
              "      <td>0</td>\n",
              "      <td>0</td>\n",
              "      <td>0</td>\n",
              "      <td>0</td>\n",
              "      <td>0</td>\n",
              "      <td>0</td>\n",
              "      <td>0</td>\n",
              "      <td>0</td>\n",
              "      <td>0</td>\n",
              "    </tr>\n",
              "    <tr>\n",
              "      <th>1</th>\n",
              "      <td>AUTOGEN_molecule_2</td>\n",
              "      <td>0</td>\n",
              "      <td>1</td>\n",
              "      <td>0</td>\n",
              "      <td>0</td>\n",
              "      <td>1</td>\n",
              "      <td>1</td>\n",
              "      <td>1</td>\n",
              "      <td>0</td>\n",
              "      <td>0</td>\n",
              "      <td>...</td>\n",
              "      <td>0</td>\n",
              "      <td>0</td>\n",
              "      <td>0</td>\n",
              "      <td>0</td>\n",
              "      <td>0</td>\n",
              "      <td>0</td>\n",
              "      <td>0</td>\n",
              "      <td>0</td>\n",
              "      <td>0</td>\n",
              "      <td>0</td>\n",
              "    </tr>\n",
              "    <tr>\n",
              "      <th>2</th>\n",
              "      <td>AUTOGEN_molecule_3</td>\n",
              "      <td>0</td>\n",
              "      <td>0</td>\n",
              "      <td>0</td>\n",
              "      <td>1</td>\n",
              "      <td>0</td>\n",
              "      <td>0</td>\n",
              "      <td>1</td>\n",
              "      <td>0</td>\n",
              "      <td>0</td>\n",
              "      <td>...</td>\n",
              "      <td>0</td>\n",
              "      <td>0</td>\n",
              "      <td>0</td>\n",
              "      <td>0</td>\n",
              "      <td>0</td>\n",
              "      <td>0</td>\n",
              "      <td>0</td>\n",
              "      <td>0</td>\n",
              "      <td>0</td>\n",
              "      <td>0</td>\n",
              "    </tr>\n",
              "    <tr>\n",
              "      <th>3</th>\n",
              "      <td>AUTOGEN_molecule_4</td>\n",
              "      <td>0</td>\n",
              "      <td>0</td>\n",
              "      <td>0</td>\n",
              "      <td>0</td>\n",
              "      <td>0</td>\n",
              "      <td>0</td>\n",
              "      <td>0</td>\n",
              "      <td>0</td>\n",
              "      <td>1</td>\n",
              "      <td>...</td>\n",
              "      <td>0</td>\n",
              "      <td>0</td>\n",
              "      <td>0</td>\n",
              "      <td>0</td>\n",
              "      <td>0</td>\n",
              "      <td>0</td>\n",
              "      <td>0</td>\n",
              "      <td>0</td>\n",
              "      <td>0</td>\n",
              "      <td>0</td>\n",
              "    </tr>\n",
              "    <tr>\n",
              "      <th>4</th>\n",
              "      <td>AUTOGEN_molecule_5</td>\n",
              "      <td>0</td>\n",
              "      <td>0</td>\n",
              "      <td>0</td>\n",
              "      <td>1</td>\n",
              "      <td>0</td>\n",
              "      <td>0</td>\n",
              "      <td>0</td>\n",
              "      <td>0</td>\n",
              "      <td>0</td>\n",
              "      <td>...</td>\n",
              "      <td>0</td>\n",
              "      <td>0</td>\n",
              "      <td>0</td>\n",
              "      <td>0</td>\n",
              "      <td>0</td>\n",
              "      <td>0</td>\n",
              "      <td>0</td>\n",
              "      <td>0</td>\n",
              "      <td>0</td>\n",
              "      <td>0</td>\n",
              "    </tr>\n",
              "    <tr>\n",
              "      <th>...</th>\n",
              "      <td>...</td>\n",
              "      <td>...</td>\n",
              "      <td>...</td>\n",
              "      <td>...</td>\n",
              "      <td>...</td>\n",
              "      <td>...</td>\n",
              "      <td>...</td>\n",
              "      <td>...</td>\n",
              "      <td>...</td>\n",
              "      <td>...</td>\n",
              "      <td>...</td>\n",
              "      <td>...</td>\n",
              "      <td>...</td>\n",
              "      <td>...</td>\n",
              "      <td>...</td>\n",
              "      <td>...</td>\n",
              "      <td>...</td>\n",
              "      <td>...</td>\n",
              "      <td>...</td>\n",
              "      <td>...</td>\n",
              "      <td>...</td>\n",
              "    </tr>\n",
              "    <tr>\n",
              "      <th>10831</th>\n",
              "      <td>AUTOGEN_molecule_10832</td>\n",
              "      <td>1</td>\n",
              "      <td>0</td>\n",
              "      <td>1</td>\n",
              "      <td>0</td>\n",
              "      <td>1</td>\n",
              "      <td>0</td>\n",
              "      <td>1</td>\n",
              "      <td>0</td>\n",
              "      <td>1</td>\n",
              "      <td>...</td>\n",
              "      <td>1</td>\n",
              "      <td>1</td>\n",
              "      <td>0</td>\n",
              "      <td>0</td>\n",
              "      <td>0</td>\n",
              "      <td>0</td>\n",
              "      <td>0</td>\n",
              "      <td>0</td>\n",
              "      <td>0</td>\n",
              "      <td>0</td>\n",
              "    </tr>\n",
              "    <tr>\n",
              "      <th>10832</th>\n",
              "      <td>AUTOGEN_molecule_10833</td>\n",
              "      <td>0</td>\n",
              "      <td>0</td>\n",
              "      <td>0</td>\n",
              "      <td>1</td>\n",
              "      <td>0</td>\n",
              "      <td>0</td>\n",
              "      <td>1</td>\n",
              "      <td>0</td>\n",
              "      <td>1</td>\n",
              "      <td>...</td>\n",
              "      <td>0</td>\n",
              "      <td>0</td>\n",
              "      <td>0</td>\n",
              "      <td>0</td>\n",
              "      <td>0</td>\n",
              "      <td>0</td>\n",
              "      <td>0</td>\n",
              "      <td>0</td>\n",
              "      <td>0</td>\n",
              "      <td>0</td>\n",
              "    </tr>\n",
              "    <tr>\n",
              "      <th>10833</th>\n",
              "      <td>AUTOGEN_molecule_10834</td>\n",
              "      <td>1</td>\n",
              "      <td>1</td>\n",
              "      <td>0</td>\n",
              "      <td>1</td>\n",
              "      <td>1</td>\n",
              "      <td>1</td>\n",
              "      <td>1</td>\n",
              "      <td>0</td>\n",
              "      <td>0</td>\n",
              "      <td>...</td>\n",
              "      <td>1</td>\n",
              "      <td>0</td>\n",
              "      <td>0</td>\n",
              "      <td>0</td>\n",
              "      <td>0</td>\n",
              "      <td>0</td>\n",
              "      <td>0</td>\n",
              "      <td>0</td>\n",
              "      <td>0</td>\n",
              "      <td>0</td>\n",
              "    </tr>\n",
              "    <tr>\n",
              "      <th>10834</th>\n",
              "      <td>AUTOGEN_molecule_10835</td>\n",
              "      <td>1</td>\n",
              "      <td>0</td>\n",
              "      <td>0</td>\n",
              "      <td>1</td>\n",
              "      <td>1</td>\n",
              "      <td>1</td>\n",
              "      <td>1</td>\n",
              "      <td>0</td>\n",
              "      <td>1</td>\n",
              "      <td>...</td>\n",
              "      <td>1</td>\n",
              "      <td>0</td>\n",
              "      <td>0</td>\n",
              "      <td>0</td>\n",
              "      <td>0</td>\n",
              "      <td>0</td>\n",
              "      <td>0</td>\n",
              "      <td>0</td>\n",
              "      <td>0</td>\n",
              "      <td>0</td>\n",
              "    </tr>\n",
              "    <tr>\n",
              "      <th>10835</th>\n",
              "      <td>AUTOGEN_molecule_10836</td>\n",
              "      <td>1</td>\n",
              "      <td>0</td>\n",
              "      <td>0</td>\n",
              "      <td>1</td>\n",
              "      <td>1</td>\n",
              "      <td>1</td>\n",
              "      <td>1</td>\n",
              "      <td>0</td>\n",
              "      <td>0</td>\n",
              "      <td>...</td>\n",
              "      <td>1</td>\n",
              "      <td>0</td>\n",
              "      <td>0</td>\n",
              "      <td>0</td>\n",
              "      <td>0</td>\n",
              "      <td>0</td>\n",
              "      <td>0</td>\n",
              "      <td>0</td>\n",
              "      <td>0</td>\n",
              "      <td>0</td>\n",
              "    </tr>\n",
              "  </tbody>\n",
              "</table>\n",
              "<p>10836 rows × 1025 columns</p>\n",
              "</div>\n",
              "      <button class=\"colab-df-convert\" onclick=\"convertToInteractive('df-382a17be-214e-431d-bb67-84f97d9224af')\"\n",
              "              title=\"Convert this dataframe to an interactive table.\"\n",
              "              style=\"display:none;\">\n",
              "\n",
              "  <svg xmlns=\"http://www.w3.org/2000/svg\" height=\"24px\"viewBox=\"0 0 24 24\"\n",
              "       width=\"24px\">\n",
              "    <path d=\"M0 0h24v24H0V0z\" fill=\"none\"/>\n",
              "    <path d=\"M18.56 5.44l.94 2.06.94-2.06 2.06-.94-2.06-.94-.94-2.06-.94 2.06-2.06.94zm-11 1L8.5 8.5l.94-2.06 2.06-.94-2.06-.94L8.5 2.5l-.94 2.06-2.06.94zm10 10l.94 2.06.94-2.06 2.06-.94-2.06-.94-.94-2.06-.94 2.06-2.06.94z\"/><path d=\"M17.41 7.96l-1.37-1.37c-.4-.4-.92-.59-1.43-.59-.52 0-1.04.2-1.43.59L10.3 9.45l-7.72 7.72c-.78.78-.78 2.05 0 2.83L4 21.41c.39.39.9.59 1.41.59.51 0 1.02-.2 1.41-.59l7.78-7.78 2.81-2.81c.8-.78.8-2.07 0-2.86zM5.41 20L4 18.59l7.72-7.72 1.47 1.35L5.41 20z\"/>\n",
              "  </svg>\n",
              "      </button>\n",
              "\n",
              "\n",
              "\n",
              "    <div id=\"df-d1b27dd6-0254-4b98-8741-dd3d9316eab8\">\n",
              "      <button class=\"colab-df-quickchart\" onclick=\"quickchart('df-d1b27dd6-0254-4b98-8741-dd3d9316eab8')\"\n",
              "              title=\"Suggest charts.\"\n",
              "              style=\"display:none;\">\n",
              "\n",
              "<svg xmlns=\"http://www.w3.org/2000/svg\" height=\"24px\"viewBox=\"0 0 24 24\"\n",
              "     width=\"24px\">\n",
              "    <g>\n",
              "        <path d=\"M19 3H5c-1.1 0-2 .9-2 2v14c0 1.1.9 2 2 2h14c1.1 0 2-.9 2-2V5c0-1.1-.9-2-2-2zM9 17H7v-7h2v7zm4 0h-2V7h2v10zm4 0h-2v-4h2v4z\"/>\n",
              "    </g>\n",
              "</svg>\n",
              "      </button>\n",
              "    </div>\n",
              "\n",
              "<style>\n",
              "  .colab-df-quickchart {\n",
              "    background-color: #E8F0FE;\n",
              "    border: none;\n",
              "    border-radius: 50%;\n",
              "    cursor: pointer;\n",
              "    display: none;\n",
              "    fill: #1967D2;\n",
              "    height: 32px;\n",
              "    padding: 0 0 0 0;\n",
              "    width: 32px;\n",
              "  }\n",
              "\n",
              "  .colab-df-quickchart:hover {\n",
              "    background-color: #E2EBFA;\n",
              "    box-shadow: 0px 1px 2px rgba(60, 64, 67, 0.3), 0px 1px 3px 1px rgba(60, 64, 67, 0.15);\n",
              "    fill: #174EA6;\n",
              "  }\n",
              "\n",
              "  [theme=dark] .colab-df-quickchart {\n",
              "    background-color: #3B4455;\n",
              "    fill: #D2E3FC;\n",
              "  }\n",
              "\n",
              "  [theme=dark] .colab-df-quickchart:hover {\n",
              "    background-color: #434B5C;\n",
              "    box-shadow: 0px 1px 3px 1px rgba(0, 0, 0, 0.15);\n",
              "    filter: drop-shadow(0px 1px 2px rgba(0, 0, 0, 0.3));\n",
              "    fill: #FFFFFF;\n",
              "  }\n",
              "</style>\n",
              "\n",
              "    <script>\n",
              "      async function quickchart(key) {\n",
              "        const containerElement = document.querySelector('#' + key);\n",
              "        const charts = await google.colab.kernel.invokeFunction(\n",
              "            'suggestCharts', [key], {});\n",
              "      }\n",
              "    </script>\n",
              "\n",
              "      <script>\n",
              "\n",
              "function displayQuickchartButton(domScope) {\n",
              "  let quickchartButtonEl =\n",
              "    domScope.querySelector('#df-d1b27dd6-0254-4b98-8741-dd3d9316eab8 button.colab-df-quickchart');\n",
              "  quickchartButtonEl.style.display =\n",
              "    google.colab.kernel.accessAllowed ? 'block' : 'none';\n",
              "}\n",
              "\n",
              "        displayQuickchartButton(document);\n",
              "      </script>\n",
              "      <style>\n",
              "    .colab-df-container {\n",
              "      display:flex;\n",
              "      flex-wrap:wrap;\n",
              "      gap: 12px;\n",
              "    }\n",
              "\n",
              "    .colab-df-convert {\n",
              "      background-color: #E8F0FE;\n",
              "      border: none;\n",
              "      border-radius: 50%;\n",
              "      cursor: pointer;\n",
              "      display: none;\n",
              "      fill: #1967D2;\n",
              "      height: 32px;\n",
              "      padding: 0 0 0 0;\n",
              "      width: 32px;\n",
              "    }\n",
              "\n",
              "    .colab-df-convert:hover {\n",
              "      background-color: #E2EBFA;\n",
              "      box-shadow: 0px 1px 2px rgba(60, 64, 67, 0.3), 0px 1px 3px 1px rgba(60, 64, 67, 0.15);\n",
              "      fill: #174EA6;\n",
              "    }\n",
              "\n",
              "    [theme=dark] .colab-df-convert {\n",
              "      background-color: #3B4455;\n",
              "      fill: #D2E3FC;\n",
              "    }\n",
              "\n",
              "    [theme=dark] .colab-df-convert:hover {\n",
              "      background-color: #434B5C;\n",
              "      box-shadow: 0px 1px 3px 1px rgba(0, 0, 0, 0.15);\n",
              "      filter: drop-shadow(0px 1px 2px rgba(0, 0, 0, 0.3));\n",
              "      fill: #FFFFFF;\n",
              "    }\n",
              "  </style>\n",
              "\n",
              "      <script>\n",
              "        const buttonEl =\n",
              "          document.querySelector('#df-382a17be-214e-431d-bb67-84f97d9224af button.colab-df-convert');\n",
              "        buttonEl.style.display =\n",
              "          google.colab.kernel.accessAllowed ? 'block' : 'none';\n",
              "\n",
              "        async function convertToInteractive(key) {\n",
              "          const element = document.querySelector('#df-382a17be-214e-431d-bb67-84f97d9224af');\n",
              "          const dataTable =\n",
              "            await google.colab.kernel.invokeFunction('convertToInteractive',\n",
              "                                                     [key], {});\n",
              "          if (!dataTable) return;\n",
              "\n",
              "          const docLinkHtml = 'Like what you see? Visit the ' +\n",
              "            '<a target=\"_blank\" href=https://colab.research.google.com/notebooks/data_table.ipynb>data table notebook</a>'\n",
              "            + ' to learn more about interactive tables.';\n",
              "          element.innerHTML = '';\n",
              "          dataTable['output_type'] = 'display_data';\n",
              "          await google.colab.output.renderOutput(dataTable, element);\n",
              "          const docLink = document.createElement('div');\n",
              "          docLink.innerHTML = docLinkHtml;\n",
              "          element.appendChild(docLink);\n",
              "        }\n",
              "      </script>\n",
              "    </div>\n",
              "  </div>\n"
            ]
          },
          "metadata": {},
          "execution_count": 12
        }
      ]
    },
    {
      "cell_type": "markdown",
      "source": [
        "## Assign the X and y value"
      ],
      "metadata": {
        "id": "E0KrfPhgg7WP"
      }
    },
    {
      "cell_type": "code",
      "source": [
        "X = descriptors.drop('Name', axis=1)\n",
        "y = df['Activity']"
      ],
      "metadata": {
        "id": "rma4bgYcg5qG"
      },
      "execution_count": 13,
      "outputs": []
    },
    {
      "cell_type": "markdown",
      "source": [
        "## Remove low variance features"
      ],
      "metadata": {
        "id": "KoM3GX6chG2l"
      }
    },
    {
      "cell_type": "code",
      "source": [
        "from sklearn.feature_selection import VarianceThreshold\n",
        "\n",
        "def remove_low_variance(input_data, threshold=0.1):\n",
        "    selection = VarianceThreshold(threshold)\n",
        "    selection.fit(input_data)\n",
        "    return input_data[input_data.columns[selection.get_support(indices=True)]]\n",
        "\n",
        "X = remove_low_variance(X, threshold=0.1)\n",
        "X"
      ],
      "metadata": {
        "colab": {
          "base_uri": "https://localhost:8080/",
          "height": 468
        },
        "id": "7cT0QNFMhF4_",
        "outputId": "1b8917e2-4c71-4f86-b9d6-51e8b3143606"
      },
      "execution_count": 14,
      "outputs": [
        {
          "output_type": "execute_result",
          "data": {
            "text/plain": [
              "       ExtFP1  ExtFP2  ExtFP3  ExtFP4  ExtFP5  ExtFP6  ExtFP7  ExtFP8  ExtFP9  \\\n",
              "0           0       0       1       1       1       1       0       0       0   \n",
              "1           0       1       0       0       1       1       1       0       0   \n",
              "2           0       0       0       1       0       0       1       0       0   \n",
              "3           0       0       0       0       0       0       0       0       1   \n",
              "4           0       0       0       1       0       0       0       0       0   \n",
              "...       ...     ...     ...     ...     ...     ...     ...     ...     ...   \n",
              "10831       1       0       1       0       1       0       1       0       1   \n",
              "10832       0       0       0       1       0       0       1       0       1   \n",
              "10833       1       1       0       1       1       1       1       0       0   \n",
              "10834       1       0       0       1       1       1       1       0       1   \n",
              "10835       1       0       0       1       1       1       1       0       0   \n",
              "\n",
              "       ExtFP10  ...  ExtFP994  ExtFP995  ExtFP997  ExtFP998  ExtFP999  \\\n",
              "0            0  ...         0         1         1         0         0   \n",
              "1            0  ...         0         0         0         1         0   \n",
              "2            0  ...         0         1         1         0         0   \n",
              "3            1  ...         0         1         0         0         0   \n",
              "4            0  ...         0         0         1         0         0   \n",
              "...        ...  ...       ...       ...       ...       ...       ...   \n",
              "10831        1  ...         0         1         0         0         0   \n",
              "10832        0  ...         0         1         1         0         0   \n",
              "10833        1  ...         1         1         1         1         1   \n",
              "10834        1  ...         1         1         1         1         0   \n",
              "10835        1  ...         1         1         1         1         0   \n",
              "\n",
              "       ExtFP1012  ExtFP1013  ExtFP1015  ExtFP1016  ExtFP1017  \n",
              "0              1          1          1          0          0  \n",
              "1              0          0          0          0          0  \n",
              "2              1          1          0          0          0  \n",
              "3              1          0          0          0          0  \n",
              "4              0          0          0          0          0  \n",
              "...          ...        ...        ...        ...        ...  \n",
              "10831          1          1          1          1          0  \n",
              "10832          0          0          0          0          0  \n",
              "10833          1          1          1          0          0  \n",
              "10834          1          1          1          0          0  \n",
              "10835          1          0          1          0          0  \n",
              "\n",
              "[10836 rows x 996 columns]"
            ],
            "text/html": [
              "\n",
              "\n",
              "  <div id=\"df-52dedfc9-b374-41b4-8a63-340aeee0e25b\">\n",
              "    <div class=\"colab-df-container\">\n",
              "      <div>\n",
              "<style scoped>\n",
              "    .dataframe tbody tr th:only-of-type {\n",
              "        vertical-align: middle;\n",
              "    }\n",
              "\n",
              "    .dataframe tbody tr th {\n",
              "        vertical-align: top;\n",
              "    }\n",
              "\n",
              "    .dataframe thead th {\n",
              "        text-align: right;\n",
              "    }\n",
              "</style>\n",
              "<table border=\"1\" class=\"dataframe\">\n",
              "  <thead>\n",
              "    <tr style=\"text-align: right;\">\n",
              "      <th></th>\n",
              "      <th>ExtFP1</th>\n",
              "      <th>ExtFP2</th>\n",
              "      <th>ExtFP3</th>\n",
              "      <th>ExtFP4</th>\n",
              "      <th>ExtFP5</th>\n",
              "      <th>ExtFP6</th>\n",
              "      <th>ExtFP7</th>\n",
              "      <th>ExtFP8</th>\n",
              "      <th>ExtFP9</th>\n",
              "      <th>ExtFP10</th>\n",
              "      <th>...</th>\n",
              "      <th>ExtFP994</th>\n",
              "      <th>ExtFP995</th>\n",
              "      <th>ExtFP997</th>\n",
              "      <th>ExtFP998</th>\n",
              "      <th>ExtFP999</th>\n",
              "      <th>ExtFP1012</th>\n",
              "      <th>ExtFP1013</th>\n",
              "      <th>ExtFP1015</th>\n",
              "      <th>ExtFP1016</th>\n",
              "      <th>ExtFP1017</th>\n",
              "    </tr>\n",
              "  </thead>\n",
              "  <tbody>\n",
              "    <tr>\n",
              "      <th>0</th>\n",
              "      <td>0</td>\n",
              "      <td>0</td>\n",
              "      <td>1</td>\n",
              "      <td>1</td>\n",
              "      <td>1</td>\n",
              "      <td>1</td>\n",
              "      <td>0</td>\n",
              "      <td>0</td>\n",
              "      <td>0</td>\n",
              "      <td>0</td>\n",
              "      <td>...</td>\n",
              "      <td>0</td>\n",
              "      <td>1</td>\n",
              "      <td>1</td>\n",
              "      <td>0</td>\n",
              "      <td>0</td>\n",
              "      <td>1</td>\n",
              "      <td>1</td>\n",
              "      <td>1</td>\n",
              "      <td>0</td>\n",
              "      <td>0</td>\n",
              "    </tr>\n",
              "    <tr>\n",
              "      <th>1</th>\n",
              "      <td>0</td>\n",
              "      <td>1</td>\n",
              "      <td>0</td>\n",
              "      <td>0</td>\n",
              "      <td>1</td>\n",
              "      <td>1</td>\n",
              "      <td>1</td>\n",
              "      <td>0</td>\n",
              "      <td>0</td>\n",
              "      <td>0</td>\n",
              "      <td>...</td>\n",
              "      <td>0</td>\n",
              "      <td>0</td>\n",
              "      <td>0</td>\n",
              "      <td>1</td>\n",
              "      <td>0</td>\n",
              "      <td>0</td>\n",
              "      <td>0</td>\n",
              "      <td>0</td>\n",
              "      <td>0</td>\n",
              "      <td>0</td>\n",
              "    </tr>\n",
              "    <tr>\n",
              "      <th>2</th>\n",
              "      <td>0</td>\n",
              "      <td>0</td>\n",
              "      <td>0</td>\n",
              "      <td>1</td>\n",
              "      <td>0</td>\n",
              "      <td>0</td>\n",
              "      <td>1</td>\n",
              "      <td>0</td>\n",
              "      <td>0</td>\n",
              "      <td>0</td>\n",
              "      <td>...</td>\n",
              "      <td>0</td>\n",
              "      <td>1</td>\n",
              "      <td>1</td>\n",
              "      <td>0</td>\n",
              "      <td>0</td>\n",
              "      <td>1</td>\n",
              "      <td>1</td>\n",
              "      <td>0</td>\n",
              "      <td>0</td>\n",
              "      <td>0</td>\n",
              "    </tr>\n",
              "    <tr>\n",
              "      <th>3</th>\n",
              "      <td>0</td>\n",
              "      <td>0</td>\n",
              "      <td>0</td>\n",
              "      <td>0</td>\n",
              "      <td>0</td>\n",
              "      <td>0</td>\n",
              "      <td>0</td>\n",
              "      <td>0</td>\n",
              "      <td>1</td>\n",
              "      <td>1</td>\n",
              "      <td>...</td>\n",
              "      <td>0</td>\n",
              "      <td>1</td>\n",
              "      <td>0</td>\n",
              "      <td>0</td>\n",
              "      <td>0</td>\n",
              "      <td>1</td>\n",
              "      <td>0</td>\n",
              "      <td>0</td>\n",
              "      <td>0</td>\n",
              "      <td>0</td>\n",
              "    </tr>\n",
              "    <tr>\n",
              "      <th>4</th>\n",
              "      <td>0</td>\n",
              "      <td>0</td>\n",
              "      <td>0</td>\n",
              "      <td>1</td>\n",
              "      <td>0</td>\n",
              "      <td>0</td>\n",
              "      <td>0</td>\n",
              "      <td>0</td>\n",
              "      <td>0</td>\n",
              "      <td>0</td>\n",
              "      <td>...</td>\n",
              "      <td>0</td>\n",
              "      <td>0</td>\n",
              "      <td>1</td>\n",
              "      <td>0</td>\n",
              "      <td>0</td>\n",
              "      <td>0</td>\n",
              "      <td>0</td>\n",
              "      <td>0</td>\n",
              "      <td>0</td>\n",
              "      <td>0</td>\n",
              "    </tr>\n",
              "    <tr>\n",
              "      <th>...</th>\n",
              "      <td>...</td>\n",
              "      <td>...</td>\n",
              "      <td>...</td>\n",
              "      <td>...</td>\n",
              "      <td>...</td>\n",
              "      <td>...</td>\n",
              "      <td>...</td>\n",
              "      <td>...</td>\n",
              "      <td>...</td>\n",
              "      <td>...</td>\n",
              "      <td>...</td>\n",
              "      <td>...</td>\n",
              "      <td>...</td>\n",
              "      <td>...</td>\n",
              "      <td>...</td>\n",
              "      <td>...</td>\n",
              "      <td>...</td>\n",
              "      <td>...</td>\n",
              "      <td>...</td>\n",
              "      <td>...</td>\n",
              "      <td>...</td>\n",
              "    </tr>\n",
              "    <tr>\n",
              "      <th>10831</th>\n",
              "      <td>1</td>\n",
              "      <td>0</td>\n",
              "      <td>1</td>\n",
              "      <td>0</td>\n",
              "      <td>1</td>\n",
              "      <td>0</td>\n",
              "      <td>1</td>\n",
              "      <td>0</td>\n",
              "      <td>1</td>\n",
              "      <td>1</td>\n",
              "      <td>...</td>\n",
              "      <td>0</td>\n",
              "      <td>1</td>\n",
              "      <td>0</td>\n",
              "      <td>0</td>\n",
              "      <td>0</td>\n",
              "      <td>1</td>\n",
              "      <td>1</td>\n",
              "      <td>1</td>\n",
              "      <td>1</td>\n",
              "      <td>0</td>\n",
              "    </tr>\n",
              "    <tr>\n",
              "      <th>10832</th>\n",
              "      <td>0</td>\n",
              "      <td>0</td>\n",
              "      <td>0</td>\n",
              "      <td>1</td>\n",
              "      <td>0</td>\n",
              "      <td>0</td>\n",
              "      <td>1</td>\n",
              "      <td>0</td>\n",
              "      <td>1</td>\n",
              "      <td>0</td>\n",
              "      <td>...</td>\n",
              "      <td>0</td>\n",
              "      <td>1</td>\n",
              "      <td>1</td>\n",
              "      <td>0</td>\n",
              "      <td>0</td>\n",
              "      <td>0</td>\n",
              "      <td>0</td>\n",
              "      <td>0</td>\n",
              "      <td>0</td>\n",
              "      <td>0</td>\n",
              "    </tr>\n",
              "    <tr>\n",
              "      <th>10833</th>\n",
              "      <td>1</td>\n",
              "      <td>1</td>\n",
              "      <td>0</td>\n",
              "      <td>1</td>\n",
              "      <td>1</td>\n",
              "      <td>1</td>\n",
              "      <td>1</td>\n",
              "      <td>0</td>\n",
              "      <td>0</td>\n",
              "      <td>1</td>\n",
              "      <td>...</td>\n",
              "      <td>1</td>\n",
              "      <td>1</td>\n",
              "      <td>1</td>\n",
              "      <td>1</td>\n",
              "      <td>1</td>\n",
              "      <td>1</td>\n",
              "      <td>1</td>\n",
              "      <td>1</td>\n",
              "      <td>0</td>\n",
              "      <td>0</td>\n",
              "    </tr>\n",
              "    <tr>\n",
              "      <th>10834</th>\n",
              "      <td>1</td>\n",
              "      <td>0</td>\n",
              "      <td>0</td>\n",
              "      <td>1</td>\n",
              "      <td>1</td>\n",
              "      <td>1</td>\n",
              "      <td>1</td>\n",
              "      <td>0</td>\n",
              "      <td>1</td>\n",
              "      <td>1</td>\n",
              "      <td>...</td>\n",
              "      <td>1</td>\n",
              "      <td>1</td>\n",
              "      <td>1</td>\n",
              "      <td>1</td>\n",
              "      <td>0</td>\n",
              "      <td>1</td>\n",
              "      <td>1</td>\n",
              "      <td>1</td>\n",
              "      <td>0</td>\n",
              "      <td>0</td>\n",
              "    </tr>\n",
              "    <tr>\n",
              "      <th>10835</th>\n",
              "      <td>1</td>\n",
              "      <td>0</td>\n",
              "      <td>0</td>\n",
              "      <td>1</td>\n",
              "      <td>1</td>\n",
              "      <td>1</td>\n",
              "      <td>1</td>\n",
              "      <td>0</td>\n",
              "      <td>0</td>\n",
              "      <td>1</td>\n",
              "      <td>...</td>\n",
              "      <td>1</td>\n",
              "      <td>1</td>\n",
              "      <td>1</td>\n",
              "      <td>1</td>\n",
              "      <td>0</td>\n",
              "      <td>1</td>\n",
              "      <td>0</td>\n",
              "      <td>1</td>\n",
              "      <td>0</td>\n",
              "      <td>0</td>\n",
              "    </tr>\n",
              "  </tbody>\n",
              "</table>\n",
              "<p>10836 rows × 996 columns</p>\n",
              "</div>\n",
              "      <button class=\"colab-df-convert\" onclick=\"convertToInteractive('df-52dedfc9-b374-41b4-8a63-340aeee0e25b')\"\n",
              "              title=\"Convert this dataframe to an interactive table.\"\n",
              "              style=\"display:none;\">\n",
              "\n",
              "  <svg xmlns=\"http://www.w3.org/2000/svg\" height=\"24px\"viewBox=\"0 0 24 24\"\n",
              "       width=\"24px\">\n",
              "    <path d=\"M0 0h24v24H0V0z\" fill=\"none\"/>\n",
              "    <path d=\"M18.56 5.44l.94 2.06.94-2.06 2.06-.94-2.06-.94-.94-2.06-.94 2.06-2.06.94zm-11 1L8.5 8.5l.94-2.06 2.06-.94-2.06-.94L8.5 2.5l-.94 2.06-2.06.94zm10 10l.94 2.06.94-2.06 2.06-.94-2.06-.94-.94-2.06-.94 2.06-2.06.94z\"/><path d=\"M17.41 7.96l-1.37-1.37c-.4-.4-.92-.59-1.43-.59-.52 0-1.04.2-1.43.59L10.3 9.45l-7.72 7.72c-.78.78-.78 2.05 0 2.83L4 21.41c.39.39.9.59 1.41.59.51 0 1.02-.2 1.41-.59l7.78-7.78 2.81-2.81c.8-.78.8-2.07 0-2.86zM5.41 20L4 18.59l7.72-7.72 1.47 1.35L5.41 20z\"/>\n",
              "  </svg>\n",
              "      </button>\n",
              "\n",
              "\n",
              "\n",
              "    <div id=\"df-e8810ee5-8929-4529-b595-fea9dcdf403a\">\n",
              "      <button class=\"colab-df-quickchart\" onclick=\"quickchart('df-e8810ee5-8929-4529-b595-fea9dcdf403a')\"\n",
              "              title=\"Suggest charts.\"\n",
              "              style=\"display:none;\">\n",
              "\n",
              "<svg xmlns=\"http://www.w3.org/2000/svg\" height=\"24px\"viewBox=\"0 0 24 24\"\n",
              "     width=\"24px\">\n",
              "    <g>\n",
              "        <path d=\"M19 3H5c-1.1 0-2 .9-2 2v14c0 1.1.9 2 2 2h14c1.1 0 2-.9 2-2V5c0-1.1-.9-2-2-2zM9 17H7v-7h2v7zm4 0h-2V7h2v10zm4 0h-2v-4h2v4z\"/>\n",
              "    </g>\n",
              "</svg>\n",
              "      </button>\n",
              "    </div>\n",
              "\n",
              "<style>\n",
              "  .colab-df-quickchart {\n",
              "    background-color: #E8F0FE;\n",
              "    border: none;\n",
              "    border-radius: 50%;\n",
              "    cursor: pointer;\n",
              "    display: none;\n",
              "    fill: #1967D2;\n",
              "    height: 32px;\n",
              "    padding: 0 0 0 0;\n",
              "    width: 32px;\n",
              "  }\n",
              "\n",
              "  .colab-df-quickchart:hover {\n",
              "    background-color: #E2EBFA;\n",
              "    box-shadow: 0px 1px 2px rgba(60, 64, 67, 0.3), 0px 1px 3px 1px rgba(60, 64, 67, 0.15);\n",
              "    fill: #174EA6;\n",
              "  }\n",
              "\n",
              "  [theme=dark] .colab-df-quickchart {\n",
              "    background-color: #3B4455;\n",
              "    fill: #D2E3FC;\n",
              "  }\n",
              "\n",
              "  [theme=dark] .colab-df-quickchart:hover {\n",
              "    background-color: #434B5C;\n",
              "    box-shadow: 0px 1px 3px 1px rgba(0, 0, 0, 0.15);\n",
              "    filter: drop-shadow(0px 1px 2px rgba(0, 0, 0, 0.3));\n",
              "    fill: #FFFFFF;\n",
              "  }\n",
              "</style>\n",
              "\n",
              "    <script>\n",
              "      async function quickchart(key) {\n",
              "        const containerElement = document.querySelector('#' + key);\n",
              "        const charts = await google.colab.kernel.invokeFunction(\n",
              "            'suggestCharts', [key], {});\n",
              "      }\n",
              "    </script>\n",
              "\n",
              "      <script>\n",
              "\n",
              "function displayQuickchartButton(domScope) {\n",
              "  let quickchartButtonEl =\n",
              "    domScope.querySelector('#df-e8810ee5-8929-4529-b595-fea9dcdf403a button.colab-df-quickchart');\n",
              "  quickchartButtonEl.style.display =\n",
              "    google.colab.kernel.accessAllowed ? 'block' : 'none';\n",
              "}\n",
              "\n",
              "        displayQuickchartButton(document);\n",
              "      </script>\n",
              "      <style>\n",
              "    .colab-df-container {\n",
              "      display:flex;\n",
              "      flex-wrap:wrap;\n",
              "      gap: 12px;\n",
              "    }\n",
              "\n",
              "    .colab-df-convert {\n",
              "      background-color: #E8F0FE;\n",
              "      border: none;\n",
              "      border-radius: 50%;\n",
              "      cursor: pointer;\n",
              "      display: none;\n",
              "      fill: #1967D2;\n",
              "      height: 32px;\n",
              "      padding: 0 0 0 0;\n",
              "      width: 32px;\n",
              "    }\n",
              "\n",
              "    .colab-df-convert:hover {\n",
              "      background-color: #E2EBFA;\n",
              "      box-shadow: 0px 1px 2px rgba(60, 64, 67, 0.3), 0px 1px 3px 1px rgba(60, 64, 67, 0.15);\n",
              "      fill: #174EA6;\n",
              "    }\n",
              "\n",
              "    [theme=dark] .colab-df-convert {\n",
              "      background-color: #3B4455;\n",
              "      fill: #D2E3FC;\n",
              "    }\n",
              "\n",
              "    [theme=dark] .colab-df-convert:hover {\n",
              "      background-color: #434B5C;\n",
              "      box-shadow: 0px 1px 3px 1px rgba(0, 0, 0, 0.15);\n",
              "      filter: drop-shadow(0px 1px 2px rgba(0, 0, 0, 0.3));\n",
              "      fill: #FFFFFF;\n",
              "    }\n",
              "  </style>\n",
              "\n",
              "      <script>\n",
              "        const buttonEl =\n",
              "          document.querySelector('#df-52dedfc9-b374-41b4-8a63-340aeee0e25b button.colab-df-convert');\n",
              "        buttonEl.style.display =\n",
              "          google.colab.kernel.accessAllowed ? 'block' : 'none';\n",
              "\n",
              "        async function convertToInteractive(key) {\n",
              "          const element = document.querySelector('#df-52dedfc9-b374-41b4-8a63-340aeee0e25b');\n",
              "          const dataTable =\n",
              "            await google.colab.kernel.invokeFunction('convertToInteractive',\n",
              "                                                     [key], {});\n",
              "          if (!dataTable) return;\n",
              "\n",
              "          const docLinkHtml = 'Like what you see? Visit the ' +\n",
              "            '<a target=\"_blank\" href=https://colab.research.google.com/notebooks/data_table.ipynb>data table notebook</a>'\n",
              "            + ' to learn more about interactive tables.';\n",
              "          element.innerHTML = '';\n",
              "          dataTable['output_type'] = 'display_data';\n",
              "          await google.colab.output.renderOutput(dataTable, element);\n",
              "          const docLink = document.createElement('div');\n",
              "          docLink.innerHTML = docLinkHtml;\n",
              "          element.appendChild(docLink);\n",
              "        }\n",
              "      </script>\n",
              "    </div>\n",
              "  </div>\n"
            ]
          },
          "metadata": {},
          "execution_count": 14
        }
      ]
    },
    {
      "cell_type": "code",
      "source": [
        "! pip install torch skorch scikit-learn"
      ],
      "metadata": {
        "colab": {
          "base_uri": "https://localhost:8080/"
        },
        "id": "2QdqWRHGnpa3",
        "outputId": "42964efb-41b4-42be-b6a1-699695ca61cc"
      },
      "execution_count": 15,
      "outputs": [
        {
          "output_type": "stream",
          "name": "stdout",
          "text": [
            "Requirement already satisfied: torch in /usr/local/lib/python3.10/dist-packages (2.0.1+cu118)\n",
            "Collecting skorch\n",
            "  Downloading skorch-0.14.0-py3-none-any.whl (221 kB)\n",
            "\u001b[2K     \u001b[90m━━━━━━━━━━━━━━━━━━━━━━━━━━━━━━━━━━━━━━━\u001b[0m \u001b[32m221.3/221.3 kB\u001b[0m \u001b[31m3.5 MB/s\u001b[0m eta \u001b[36m0:00:00\u001b[0m\n",
            "\u001b[?25hRequirement already satisfied: scikit-learn in /usr/local/lib/python3.10/dist-packages (1.2.2)\n",
            "Requirement already satisfied: filelock in /usr/local/lib/python3.10/dist-packages (from torch) (3.12.2)\n",
            "Requirement already satisfied: typing-extensions in /usr/local/lib/python3.10/dist-packages (from torch) (4.7.1)\n",
            "Requirement already satisfied: sympy in /usr/local/lib/python3.10/dist-packages (from torch) (1.11.1)\n",
            "Requirement already satisfied: networkx in /usr/local/lib/python3.10/dist-packages (from torch) (3.1)\n",
            "Requirement already satisfied: jinja2 in /usr/local/lib/python3.10/dist-packages (from torch) (3.1.2)\n",
            "Requirement already satisfied: triton==2.0.0 in /usr/local/lib/python3.10/dist-packages (from torch) (2.0.0)\n",
            "Requirement already satisfied: cmake in /usr/local/lib/python3.10/dist-packages (from triton==2.0.0->torch) (3.25.2)\n",
            "Requirement already satisfied: lit in /usr/local/lib/python3.10/dist-packages (from triton==2.0.0->torch) (16.0.6)\n",
            "Requirement already satisfied: numpy>=1.13.3 in /usr/local/lib/python3.10/dist-packages (from skorch) (1.22.4)\n",
            "Requirement already satisfied: scipy>=1.1.0 in /usr/local/lib/python3.10/dist-packages (from skorch) (1.10.1)\n",
            "Requirement already satisfied: tabulate>=0.7.7 in /usr/local/lib/python3.10/dist-packages (from skorch) (0.9.0)\n",
            "Requirement already satisfied: tqdm>=4.14.0 in /usr/local/lib/python3.10/dist-packages (from skorch) (4.65.0)\n",
            "Requirement already satisfied: joblib>=1.1.1 in /usr/local/lib/python3.10/dist-packages (from scikit-learn) (1.3.1)\n",
            "Requirement already satisfied: threadpoolctl>=2.0.0 in /usr/local/lib/python3.10/dist-packages (from scikit-learn) (3.2.0)\n",
            "Requirement already satisfied: MarkupSafe>=2.0 in /usr/local/lib/python3.10/dist-packages (from jinja2->torch) (2.1.3)\n",
            "Requirement already satisfied: mpmath>=0.19 in /usr/local/lib/python3.10/dist-packages (from sympy->torch) (1.3.0)\n",
            "Installing collected packages: skorch\n",
            "Successfully installed skorch-0.14.0\n"
          ]
        }
      ]
    },
    {
      "cell_type": "code",
      "source": [
        "import numpy as np\n",
        "import pandas as pd\n",
        "import torch\n",
        "import torch.nn as nn\n",
        "import torch.optim as optim\n",
        "from sklearn.preprocessing import LabelEncoder\n",
        "from skorch import NeuralNetBinaryClassifier\n",
        "from sklearn.model_selection import StratifiedKFold, train_test_split, cross_val_score"
      ],
      "metadata": {
        "id": "UwauaCI5nh9Y"
      },
      "execution_count": 16,
      "outputs": []
    },
    {
      "cell_type": "markdown",
      "source": [
        "###NeuralNetBinaryClassifier"
      ],
      "metadata": {
        "id": "R_PIn3K58IU-"
      }
    },
    {
      "cell_type": "code",
      "source": [
        "from sklearn.model_selection import train_test_split\n",
        "\n",
        "X_train, X_test, y_train, y_test = train_test_split(X, y, test_size=0.2, random_state=42)"
      ],
      "metadata": {
        "id": "gWH4PXV_rm93"
      },
      "execution_count": 17,
      "outputs": []
    },
    {
      "cell_type": "code",
      "source": [
        "X_test.shape, y_test.shape"
      ],
      "metadata": {
        "colab": {
          "base_uri": "https://localhost:8080/"
        },
        "id": "9hiEghuur9y5",
        "outputId": "f318ceec-71c4-4daf-e89e-78fedb4d1e4e"
      },
      "execution_count": 18,
      "outputs": [
        {
          "output_type": "execute_result",
          "data": {
            "text/plain": [
              "((2168, 996), (2168,))"
            ]
          },
          "metadata": {},
          "execution_count": 18
        }
      ]
    },
    {
      "cell_type": "code",
      "source": [
        "X_train.shape, y_train.shape"
      ],
      "metadata": {
        "colab": {
          "base_uri": "https://localhost:8080/"
        },
        "id": "ZHBlXoAVtU4K",
        "outputId": "b5cb2954-5dd3-443a-8836-3dbe3c8d783a"
      },
      "execution_count": 19,
      "outputs": [
        {
          "output_type": "execute_result",
          "data": {
            "text/plain": [
              "((8668, 996), (8668,))"
            ]
          },
          "metadata": {},
          "execution_count": 19
        }
      ]
    },
    {
      "cell_type": "code",
      "source": [
        "encoder = LabelEncoder()\n",
        "encoder.fit(y_train)\n",
        "y_train = encoder.transform(y_train)\n",
        "\n",
        "# Convert to 2D PyTorch tensors\n",
        "X_train = torch.tensor(X_train.values, dtype=torch.float32)\n",
        "y_train = torch.tensor(y_train, dtype=torch.float32)"
      ],
      "metadata": {
        "id": "elYqHWxIyyj8"
      },
      "execution_count": 20,
      "outputs": []
    },
    {
      "cell_type": "code",
      "source": [
        "encoder = LabelEncoder()\n",
        "encoder.fit(y_test)\n",
        "y_test = encoder.transform(y_test)\n",
        "\n",
        "# Convert to 2D PyTorch tensors\n",
        "X_test = torch.tensor(X_test.values, dtype=torch.float32)\n",
        "y_test = torch.tensor(y_test, dtype=torch.float32)"
      ],
      "metadata": {
        "id": "LYkLFXtQDPbS"
      },
      "execution_count": 21,
      "outputs": []
    },
    {
      "cell_type": "code",
      "source": [
        "class hERGClassifier(nn.Module):\n",
        "    def __init__(self):\n",
        "        super().__init__()\n",
        "        self.layer1 = nn.Linear(996,996)\n",
        "        self.act1 = nn.ReLU()\n",
        "        self.layer2 = nn.Linear(996, 996)\n",
        "        self.act2 = nn.ReLU()\n",
        "        self.layer3 = nn.Linear(996, 996)\n",
        "        self.act3 = nn.ReLU()\n",
        "        self.output = nn.Linear(996, 1)\n",
        "\n",
        "    def forward(self, x):\n",
        "        x = self.act1(self.layer1(x))\n",
        "        x = self.act2(self.layer2(x))\n",
        "        x = self.act3(self.layer3(x))\n",
        "        x = self.output(x)\n",
        "        return x"
      ],
      "metadata": {
        "id": "Lrxeb-RZy6JF"
      },
      "execution_count": 22,
      "outputs": []
    },
    {
      "cell_type": "code",
      "source": [
        "# create the skorch wrapper\n",
        "model = NeuralNetBinaryClassifier(\n",
        "    hERGClassifier,\n",
        "    criterion=torch.nn.BCEWithLogitsLoss,\n",
        "    optimizer=torch.optim.Adam,\n",
        "    lr=0.0001,\n",
        "    max_epochs=150,\n",
        "    batch_size=10,\n",
        "    verbose=False\n",
        ")"
      ],
      "metadata": {
        "id": "JfzZJ7JTy95U"
      },
      "execution_count": 23,
      "outputs": []
    },
    {
      "cell_type": "markdown",
      "source": [
        "This NeuralNetBinaryClassifier instance is not initialized yet. Call 'initialize' or 'fit'"
      ],
      "metadata": {
        "id": "xZzRthmUxgra"
      }
    },
    {
      "cell_type": "code",
      "source": [
        "model.fit(X_train, y_train)"
      ],
      "metadata": {
        "colab": {
          "base_uri": "https://localhost:8080/"
        },
        "id": "QLg8HeYTE6-k",
        "outputId": "cd78e277-271f-4e6f-e709-a3483d8f27fc"
      },
      "execution_count": 24,
      "outputs": [
        {
          "output_type": "execute_result",
          "data": {
            "text/plain": [
              "<class 'skorch.classifier.NeuralNetBinaryClassifier'>[initialized](\n",
              "  module_=hERGClassifier(\n",
              "    (layer1): Linear(in_features=996, out_features=996, bias=True)\n",
              "    (act1): ReLU()\n",
              "    (layer2): Linear(in_features=996, out_features=996, bias=True)\n",
              "    (act2): ReLU()\n",
              "    (layer3): Linear(in_features=996, out_features=996, bias=True)\n",
              "    (act3): ReLU()\n",
              "    (output): Linear(in_features=996, out_features=1, bias=True)\n",
              "  ),\n",
              ")"
            ]
          },
          "metadata": {},
          "execution_count": 24
        }
      ]
    },
    {
      "cell_type": "code",
      "source": [
        "y_train_pred = model.predict(X_train)"
      ],
      "metadata": {
        "id": "rXD4JIn8sVi6"
      },
      "execution_count": 25,
      "outputs": []
    },
    {
      "cell_type": "code",
      "source": [
        "y_test_pred = model.predict(X_test)"
      ],
      "metadata": {
        "id": "-34QrOcs5O3r"
      },
      "execution_count": 26,
      "outputs": []
    },
    {
      "cell_type": "code",
      "source": [
        "from sklearn.metrics import matthews_corrcoef"
      ],
      "metadata": {
        "id": "o3MwyFw5sZvL"
      },
      "execution_count": 27,
      "outputs": []
    },
    {
      "cell_type": "code",
      "source": [
        "mcc_train = matthews_corrcoef(y_train, y_train_pred)\n",
        "mcc_train"
      ],
      "metadata": {
        "colab": {
          "base_uri": "https://localhost:8080/"
        },
        "id": "BoNhyN2IscO7",
        "outputId": "8f082fa7-00c1-4349-c91e-9aa519255728"
      },
      "execution_count": 28,
      "outputs": [
        {
          "output_type": "execute_result",
          "data": {
            "text/plain": [
              "0.9299763047134604"
            ]
          },
          "metadata": {},
          "execution_count": 28
        }
      ]
    },
    {
      "cell_type": "code",
      "source": [
        "mcc_test = matthews_corrcoef(y_test, y_test_pred)\n",
        "mcc_test"
      ],
      "metadata": {
        "colab": {
          "base_uri": "https://localhost:8080/"
        },
        "id": "awtjgedutzCj",
        "outputId": "627d9582-a8e6-43e9-f07e-52d838989dc7"
      },
      "execution_count": 29,
      "outputs": [
        {
          "output_type": "execute_result",
          "data": {
            "text/plain": [
              "0.6902682388899177"
            ]
          },
          "metadata": {},
          "execution_count": 29
        }
      ]
    },
    {
      "cell_type": "code",
      "source": [
        "kfold = StratifiedKFold(n_splits=5, shuffle=True)\n",
        "results = cross_val_score(model, X_train, y_train, cv=kfold)\n",
        "print(\"mean = %.3f; std = %.3f\" % (results.mean(), results.std()))"
      ],
      "metadata": {
        "id": "q99jl-ZKzCN0"
      },
      "execution_count": null,
      "outputs": []
    },
    {
      "cell_type": "code",
      "source": [
        "kfold = StratifiedKFold(n_splits=5, shuffle=True)\n",
        "results_test = cross_val_score(model, X_test, y_test, cv=kfold)\n",
        "print(\"mean = %.3f; std = %.3f\" % (results_test.mean(), results_test.std()))"
      ],
      "metadata": {
        "colab": {
          "base_uri": "https://localhost:8080/"
        },
        "id": "PK4_cObTFeRD",
        "outputId": "0b46204b-03b2-4de7-bbe4-37cbb6e6fcf1"
      },
      "execution_count": null,
      "outputs": [
        {
          "output_type": "stream",
          "name": "stdout",
          "text": [
            "mean = 0.808; std = 0.042\n"
          ]
        }
      ]
    },
    {
      "cell_type": "code",
      "source": [
        "\n",
        "from sklearn.metrics import roc_curve, roc_auc_score\n",
        "from sklearn import metrics\n",
        "from sklearn.metrics import roc_curve\n",
        "from sklearn.metrics import auc"
      ],
      "metadata": {
        "id": "2MXtaEKNt-Ok"
      },
      "execution_count": null,
      "outputs": []
    },
    {
      "cell_type": "code",
      "source": [
        "#prediction probability\n",
        "r_probs_train = [0 for _ in range(len(y_train))]\n",
        "model_probs_train = model.predict_proba(X_train)\n",
        "#nb_probs = nb.predict_proba(X_testscaled)"
      ],
      "metadata": {
        "id": "KHk4TSrGuBlD"
      },
      "execution_count": null,
      "outputs": []
    },
    {
      "cell_type": "code",
      "source": [
        "model_probs_train = model_probs_train[:, 1]\n",
        "model_probs_train"
      ],
      "metadata": {
        "colab": {
          "base_uri": "https://localhost:8080/"
        },
        "id": "_DlbyLK8uEY0",
        "outputId": "cb35331e-3ccb-4f2c-f51d-9be74d484565"
      },
      "execution_count": null,
      "outputs": [
        {
          "output_type": "execute_result",
          "data": {
            "text/plain": [
              "array([4.8357242e-11, 1.0000000e+00, 5.9161317e-02, ..., 9.6061909e-01,\n",
              "       1.9790141e-03, 1.0000000e+00], dtype=float32)"
            ]
          },
          "metadata": {},
          "execution_count": 24
        }
      ]
    },
    {
      "cell_type": "code",
      "source": [
        "r_fpr_train, r_tpr_train, _ = roc_curve(y_train, r_probs_train, pos_label=2)\n",
        "model_fpr_train, model_tpr_train, _ = roc_curve(y_train, model_probs_train, pos_label=2)"
      ],
      "metadata": {
        "colab": {
          "base_uri": "https://localhost:8080/"
        },
        "id": "5NgBxhpWuIFv",
        "outputId": "4c1d28e6-9a8f-4028-cdef-be0c82f7896b"
      },
      "execution_count": null,
      "outputs": [
        {
          "output_type": "stream",
          "name": "stderr",
          "text": [
            "/usr/local/lib/python3.10/dist-packages/sklearn/metrics/_ranking.py:1029: UndefinedMetricWarning: No positive samples in y_true, true positive value should be meaningless\n",
            "  warnings.warn(\n",
            "/usr/local/lib/python3.10/dist-packages/sklearn/metrics/_ranking.py:1029: UndefinedMetricWarning: No positive samples in y_true, true positive value should be meaningless\n",
            "  warnings.warn(\n"
          ]
        }
      ]
    },
    {
      "cell_type": "code",
      "source": [
        "r_auc_train = roc_auc_score(y_train, r_probs_train)\n",
        "model_auc_train = roc_auc_score(y_train, model_probs_train)"
      ],
      "metadata": {
        "id": "v_1rymyZCCrJ"
      },
      "execution_count": null,
      "outputs": []
    },
    {
      "cell_type": "code",
      "source": [
        "print('NNBinary Classifier Training Data set: ROC Score = %.3f' % (model_auc_train))"
      ],
      "metadata": {
        "colab": {
          "base_uri": "https://localhost:8080/"
        },
        "id": "0F6uuEJCCGXJ",
        "outputId": "e3c190a1-16aa-407f-c2e8-e5a8d218f1f6"
      },
      "execution_count": null,
      "outputs": [
        {
          "output_type": "stream",
          "name": "stdout",
          "text": [
            "NNBinary Classifier Training Data set: ROC Score = 0.870\n"
          ]
        }
      ]
    },
    {
      "cell_type": "code",
      "source": [
        "#prediction probability\n",
        "r_probs = [0 for _ in range(len(y_test))]\n",
        "model_probs = model.predict_proba(X_test)\n",
        "#nb_probs = nb.predict_proba(X_testscaled)"
      ],
      "metadata": {
        "id": "RUyN4UlZCPgy"
      },
      "execution_count": null,
      "outputs": []
    },
    {
      "cell_type": "code",
      "source": [
        "\n",
        "model_probs = model_probs[:, 1]\n",
        "model_probs\n"
      ],
      "metadata": {
        "colab": {
          "base_uri": "https://localhost:8080/"
        },
        "id": "hTniegTjClV5",
        "outputId": "48d01e7c-3f42-423c-9fe2-543c43484581"
      },
      "execution_count": null,
      "outputs": [
        {
          "output_type": "execute_result",
          "data": {
            "text/plain": [
              "array([1.13405017e-02, 7.33199590e-09, 9.46248770e-01, 9.99999404e-01,\n",
              "       1.00000000e+00, 7.23203275e-10, 9.64195609e-01, 1.00000000e+00,\n",
              "       9.99999881e-01, 1.00000000e+00, 1.00000000e+00, 9.99783337e-01,\n",
              "       5.38725257e-01, 1.48877845e-07, 1.00000000e+00, 4.51997515e-08,\n",
              "       9.88086462e-01, 1.00000000e+00, 1.34796829e-09, 1.00000000e+00,\n",
              "       9.99986768e-01, 1.00000000e+00, 4.27387542e-10, 9.01618819e-07,\n",
              "       1.00000000e+00, 1.00000000e+00, 9.99964595e-01, 2.48940832e-14,\n",
              "       8.06273878e-01, 4.02589530e-01, 1.11734405e-01, 1.00000000e+00,\n",
              "       9.99991417e-01, 9.99954700e-01, 9.46948081e-02, 1.00000000e+00,\n",
              "       9.98970389e-01, 9.99999285e-01, 1.00000000e+00, 9.91309166e-01,\n",
              "       1.23086909e-04, 1.00000000e+00, 8.47572068e-10, 1.00000000e+00,\n",
              "       9.98742878e-01, 5.56003511e-01, 5.29205501e-01, 7.43947506e-01,\n",
              "       3.10859974e-07, 9.99912381e-01, 1.34945662e-06, 9.99998569e-01,\n",
              "       5.39633754e-11, 1.00000000e+00, 9.97992754e-01, 9.99982238e-01,\n",
              "       1.00000000e+00, 1.00000000e+00, 9.14794218e-05, 9.17943656e-01,\n",
              "       9.70611236e-09, 1.00000000e+00, 1.00000000e+00, 1.00000000e+00,\n",
              "       1.00000000e+00, 1.00000000e+00, 7.10299541e-10, 1.00000000e+00,\n",
              "       1.00000000e+00, 4.58705063e-06, 9.99997616e-01, 1.00000000e+00,\n",
              "       1.00000000e+00, 2.80317352e-07, 3.31971080e-07, 1.00000000e+00,\n",
              "       1.00000000e+00, 9.99893308e-01, 9.99987483e-01, 9.99861002e-01,\n",
              "       1.00000000e+00, 3.73060506e-11, 2.06303403e-01, 1.00000000e+00,\n",
              "       1.00000000e+00, 1.00000000e+00, 1.15462775e-07, 2.69680640e-07,\n",
              "       5.09788300e-09, 7.83800941e-11, 1.00000000e+00, 5.28611569e-03,\n",
              "       4.16316539e-02, 1.72211148e-10, 9.99998569e-01, 6.90227032e-01,\n",
              "       9.99999762e-01, 1.37765954e-09, 1.00000000e+00, 3.08272647e-05,\n",
              "       9.61145124e-05, 9.72232521e-01, 1.30952005e-08, 9.99778330e-01,\n",
              "       1.91394633e-09, 1.00000000e+00, 6.49005427e-09, 1.00000000e+00,\n",
              "       6.12337934e-03, 2.55613364e-02, 9.95230317e-01, 9.96547282e-01,\n",
              "       9.99956012e-01, 1.00000000e+00, 7.32105354e-06, 3.37648176e-09,\n",
              "       2.55114794e-01, 9.99999881e-01, 2.76676548e-08, 9.99916315e-01,\n",
              "       1.00000000e+00, 2.51087453e-08, 9.46129978e-01, 7.15555570e-09,\n",
              "       1.00000000e+00, 6.33365242e-03, 9.96390879e-01, 9.98240113e-01,\n",
              "       1.00000000e+00, 1.00000000e+00, 2.91755356e-07, 1.00000000e+00,\n",
              "       5.38617577e-08, 1.00000000e+00, 1.00000000e+00, 1.00000000e+00,\n",
              "       1.00000000e+00, 9.99999285e-01, 6.43645082e-10, 1.00000000e+00,\n",
              "       2.67031083e-07, 8.42162035e-11, 8.05080980e-09, 1.20211414e-08,\n",
              "       9.99999642e-01, 3.99104751e-12, 1.00000000e+00, 1.00000000e+00,\n",
              "       2.24710441e-12, 1.00000000e+00, 1.00000000e+00, 1.15933920e-11,\n",
              "       1.00000000e+00, 1.21662769e-08, 1.00000000e+00, 1.00000000e+00,\n",
              "       8.30222362e-08, 1.00000000e+00, 9.99999762e-01, 1.14378701e-10,\n",
              "       1.00000000e+00, 9.99999881e-01, 9.99999762e-01, 3.77589987e-10,\n",
              "       9.99999881e-01, 1.00000000e+00, 1.00000000e+00, 1.00000000e+00,\n",
              "       1.00000000e+00, 1.00000000e+00, 1.00000000e+00, 1.00000000e+00,\n",
              "       1.00000000e+00, 9.99999881e-01, 2.26895596e-13, 1.00000000e+00,\n",
              "       1.00000000e+00, 9.99999523e-01, 1.00000000e+00, 1.06084620e-11,\n",
              "       4.78474260e-10, 2.25219363e-08, 2.31559877e-15, 1.00000000e+00,\n",
              "       4.78474260e-10, 1.00000000e+00, 4.97769204e-09, 3.99104751e-12,\n",
              "       1.00000000e+00, 1.00000000e+00, 1.00000000e+00, 1.00000000e+00,\n",
              "       3.71203179e-10, 1.00000000e+00, 9.99999523e-01, 6.44249931e-12,\n",
              "       1.00000000e+00, 9.99999762e-01, 9.99999762e-01, 1.00000000e+00,\n",
              "       9.99999762e-01, 9.99999642e-01, 1.00000000e+00, 1.00000000e+00,\n",
              "       3.64873930e-12, 9.99999046e-01, 1.00000000e+00, 3.44735296e-10,\n",
              "       9.59540156e-11, 1.00000000e+00, 1.00000000e+00, 1.00000000e+00,\n",
              "       3.48989920e-10, 1.00000000e+00, 1.00000000e+00, 1.00000000e+00,\n",
              "       1.00000000e+00, 1.00000000e+00, 1.00000000e+00, 7.84243213e-08,\n",
              "       1.00000000e+00, 7.33199590e-09, 1.00000000e+00, 1.00000000e+00,\n",
              "       1.00000000e+00, 1.53384097e-10, 9.99999404e-01, 1.00000000e+00,\n",
              "       1.00000000e+00, 1.00000000e+00, 1.31902000e-09, 3.55819992e-11,\n",
              "       1.00000000e+00, 4.53423127e-07, 1.00000000e+00, 1.00000000e+00,\n",
              "       1.00000000e+00, 9.99999285e-01, 1.00000000e+00, 1.00000000e+00,\n",
              "       1.00000000e+00, 9.99999881e-01, 1.58724006e-10, 1.00000000e+00,\n",
              "       1.00000000e+00, 9.99999881e-01, 1.00000000e+00, 1.19511307e-13,\n",
              "       1.00000000e+00, 1.00000000e+00, 2.06356194e-08, 1.00000000e+00,\n",
              "       1.34231435e-08, 3.38180550e-09, 3.84375598e-09, 1.00000000e+00,\n",
              "       1.00000000e+00, 1.23245600e-08, 9.99999642e-01, 1.00000000e+00,\n",
              "       3.37246030e-12, 9.99999881e-01, 9.99999881e-01, 1.00000000e+00,\n",
              "       1.00000000e+00, 9.99998808e-01, 1.00000000e+00, 2.90064171e-11,\n",
              "       1.00000000e+00, 9.99999881e-01, 1.00000000e+00, 1.00000000e+00,\n",
              "       9.99999523e-01, 9.16337910e-07, 1.00000000e+00, 1.79424955e-08,\n",
              "       1.00000000e+00, 1.00000000e+00, 1.00000000e+00, 9.99985456e-01,\n",
              "       1.00000000e+00, 9.99999881e-01, 1.00000000e+00, 1.48801348e-07,\n",
              "       1.00000000e+00, 1.00000000e+00, 4.13851694e-07, 1.00000000e+00,\n",
              "       1.00000000e+00, 1.00000000e+00, 1.00000000e+00, 9.99999881e-01,\n",
              "       5.96411143e-09, 9.99999046e-01, 1.00000000e+00, 1.00000000e+00,\n",
              "       3.14797894e-08, 1.00000000e+00, 3.84092713e-09, 1.57963226e-10,\n",
              "       2.62363624e-08, 1.77286221e-08, 4.84278728e-10, 1.00000000e+00,\n",
              "       1.00000000e+00, 9.99992609e-01, 1.07002137e-07, 1.00000000e+00,\n",
              "       1.00000000e+00, 9.99999762e-01, 1.00000000e+00, 1.00000000e+00,\n",
              "       3.21211893e-08, 1.00000000e+00, 1.00000000e+00, 1.00000000e+00,\n",
              "       5.23340649e-10, 1.00000000e+00, 1.84406872e-08, 1.00000000e+00,\n",
              "       1.00000000e+00, 1.00000000e+00, 1.00000000e+00, 2.00648997e-10,\n",
              "       1.00000000e+00, 9.99999881e-01, 1.34277550e-15, 1.00000000e+00,\n",
              "       7.42888915e-07, 1.00000000e+00, 1.00000000e+00, 1.34277550e-15,\n",
              "       9.99999881e-01, 9.99999285e-01, 2.48940832e-14, 1.00000000e+00,\n",
              "       1.00000000e+00, 7.58763885e-10, 1.00000000e+00, 2.35323751e-13,\n",
              "       1.00000000e+00, 1.00000000e+00, 1.00000000e+00, 6.53915038e-08,\n",
              "       1.00000000e+00, 1.00000000e+00, 9.99999881e-01, 8.24141089e-10,\n",
              "       1.00000000e+00, 7.23203275e-10, 1.00000000e+00, 2.79148278e-08,\n",
              "       9.49355611e-13, 6.81863810e-09, 1.00000000e+00, 9.85352355e-10,\n",
              "       1.00000000e+00, 1.00000000e+00, 6.19056412e-12, 1.00000000e+00,\n",
              "       1.61791047e-09, 1.00000000e+00, 1.00000000e+00, 2.79234337e-06,\n",
              "       9.99999881e-01, 1.00000000e+00, 9.99999881e-01, 9.99998569e-01,\n",
              "       1.23850624e-10, 1.00000000e+00, 1.00000000e+00, 1.00000000e+00,\n",
              "       1.00000000e+00, 1.00000000e+00, 1.00000000e+00, 9.99999642e-01,\n",
              "       3.31093292e-10, 5.34586864e-09, 1.00000000e+00, 2.41461379e-07,\n",
              "       3.40464523e-09, 2.14658864e-11, 1.40723166e-09, 2.31559877e-15,\n",
              "       1.00000000e+00, 1.00000000e+00, 9.99999285e-01, 9.99999642e-01,\n",
              "       1.00000000e+00, 1.00000000e+00, 2.47746845e-09, 8.55642848e-11,\n",
              "       6.04573613e-10, 9.99998212e-01, 3.53446287e-12, 5.18673327e-09,\n",
              "       5.83745168e-06, 5.42872580e-10, 2.12400437e-06, 1.00000000e+00,\n",
              "       1.00000000e+00, 7.33199590e-09, 1.00000000e+00, 1.00000000e+00,\n",
              "       1.00000000e+00, 1.00000000e+00, 8.59144933e-09, 1.00000000e+00,\n",
              "       9.99999881e-01, 9.99999285e-01, 1.00000000e+00, 5.34586864e-09,\n",
              "       1.00000000e+00, 2.84299176e-07, 1.18948540e-08, 1.00000000e+00,\n",
              "       9.99999881e-01, 1.00000000e+00, 1.00000000e+00, 1.00000000e+00,\n",
              "       1.00000000e+00, 6.76153022e-11, 1.81731796e-09, 1.70659451e-08,\n",
              "       1.23836106e-08, 1.00000000e+00, 1.00000000e+00, 8.30947200e-10,\n",
              "       9.97667393e-10, 5.18394615e-12, 9.99999881e-01, 1.00000000e+00,\n",
              "       5.44113618e-06, 2.22390923e-08, 1.01756970e-09, 2.98169714e-12,\n",
              "       1.00000000e+00, 1.07563271e-10, 1.00000000e+00, 9.29800514e-10,\n",
              "       1.00000000e+00, 4.76068518e-09, 1.00000000e+00, 1.00000000e+00,\n",
              "       1.62039060e-09, 2.97829139e-09, 1.00000000e+00, 9.99999762e-01,\n",
              "       1.65425063e-10, 3.99873051e-11, 9.03626542e-08, 7.89410279e-08,\n",
              "       1.00000000e+00, 9.99999881e-01, 1.00000000e+00, 2.48029778e-07,\n",
              "       9.99999881e-01, 4.36661081e-12, 1.40354395e-08, 3.64497499e-09,\n",
              "       1.00000000e+00, 1.00000000e+00, 1.00000000e+00, 1.00000000e+00,\n",
              "       7.14073849e-08, 1.50878691e-12, 1.00000000e+00, 1.00000000e+00,\n",
              "       1.00000000e+00, 1.00000000e+00, 1.00000000e+00, 9.99998689e-01,\n",
              "       1.00000000e+00, 2.23923493e-07, 1.16365371e-07, 1.00000000e+00,\n",
              "       1.00000000e+00, 1.00000000e+00, 1.00000000e+00, 2.38175559e-07,\n",
              "       1.00000000e+00, 5.46350861e-07, 1.00000000e+00, 4.35425207e-08,\n",
              "       1.34189442e-08, 1.00000000e+00, 1.00000000e+00, 1.00000000e+00,\n",
              "       1.00000000e+00, 3.22840776e-08, 2.70321539e-06, 1.00000000e+00,\n",
              "       1.00000000e+00, 1.00000000e+00, 4.42587691e-08, 1.00000000e+00,\n",
              "       2.95158906e-12, 9.99999523e-01, 1.00000000e+00, 1.00000000e+00,\n",
              "       1.00000000e+00, 1.00000000e+00, 1.00000000e+00, 1.00000000e+00,\n",
              "       1.00000000e+00, 9.99999881e-01, 1.00000000e+00, 1.00000000e+00,\n",
              "       1.00000000e+00, 1.00000000e+00, 1.00000000e+00, 4.15645758e-08,\n",
              "       1.00000000e+00, 1.00000000e+00, 1.00000000e+00, 7.58478080e-08,\n",
              "       1.59364151e-06, 1.00000000e+00, 1.00000000e+00, 1.00000000e+00,\n",
              "       9.06805084e-08, 1.00000000e+00, 1.00000000e+00, 4.52982679e-10,\n",
              "       2.28073609e-13, 1.00000000e+00, 1.00000000e+00, 3.00566001e-07,\n",
              "       9.99994159e-01, 1.00000000e+00, 1.00000000e+00, 4.15592751e-07,\n",
              "       6.16151531e-12, 1.00000000e+00, 1.00000000e+00, 1.00000000e+00,\n",
              "       1.00000000e+00, 9.99999881e-01, 1.00000000e+00, 1.00000000e+00,\n",
              "       1.00000000e+00, 1.00000000e+00, 1.00000000e+00, 1.00000000e+00,\n",
              "       3.20809107e-07, 1.00000000e+00, 8.70414141e-08, 1.00000000e+00,\n",
              "       1.00000000e+00, 1.07563271e-10, 1.00000000e+00, 1.00000000e+00,\n",
              "       1.00000000e+00, 3.14797894e-08, 1.00000000e+00, 1.00000000e+00,\n",
              "       1.00000000e+00, 9.99999523e-01, 3.84252075e-11, 6.81089460e-08,\n",
              "       1.49811029e-07, 1.00000000e+00, 1.00000000e+00, 1.00000000e+00,\n",
              "       1.00000000e+00, 1.31438674e-06, 9.99999762e-01, 2.96295521e-08,\n",
              "       1.30246769e-06, 9.99999881e-01, 9.99999881e-01, 2.13116351e-07,\n",
              "       1.00000000e+00, 1.00000000e+00, 9.99999881e-01, 7.85225112e-08,\n",
              "       9.21780785e-09, 1.00000000e+00, 1.00000000e+00, 1.82694464e-07,\n",
              "       1.00000000e+00, 3.94443805e-06, 1.62009464e-08, 4.96917636e-08,\n",
              "       9.99998450e-01, 2.48940832e-14, 1.00000000e+00, 9.99999762e-01,\n",
              "       1.00000000e+00, 1.56585305e-08, 1.00000000e+00, 2.57924366e-08,\n",
              "       1.00000000e+00, 1.00000000e+00], dtype=float32)"
            ]
          },
          "metadata": {},
          "execution_count": 29
        }
      ]
    },
    {
      "cell_type": "code",
      "source": [
        "r_fpr, r_tpr, _ = roc_curve(y_test, r_probs, pos_label=2)\n",
        "model_fpr, model_tpr, _ = roc_curve(y_test, model_probs, pos_label=2)"
      ],
      "metadata": {
        "colab": {
          "base_uri": "https://localhost:8080/"
        },
        "id": "cqvxAYfCCpuR",
        "outputId": "65f6d37a-c692-4d37-b791-8c2254ddecf9"
      },
      "execution_count": null,
      "outputs": [
        {
          "output_type": "stream",
          "name": "stderr",
          "text": [
            "/usr/local/lib/python3.10/dist-packages/sklearn/metrics/_ranking.py:1029: UndefinedMetricWarning: No positive samples in y_true, true positive value should be meaningless\n",
            "  warnings.warn(\n",
            "/usr/local/lib/python3.10/dist-packages/sklearn/metrics/_ranking.py:1029: UndefinedMetricWarning: No positive samples in y_true, true positive value should be meaningless\n",
            "  warnings.warn(\n"
          ]
        }
      ]
    },
    {
      "cell_type": "code",
      "source": [
        "r_auc = roc_auc_score(y_test, r_probs)\n",
        "model_auc = roc_auc_score(y_test, model_probs)"
      ],
      "metadata": {
        "id": "BC73i8J3CsHB"
      },
      "execution_count": null,
      "outputs": []
    },
    {
      "cell_type": "code",
      "source": [
        "print('NNBinary Classifier Testing Data set: ROC Score = %.3f' % (model_auc_train))"
      ],
      "metadata": {
        "colab": {
          "base_uri": "https://localhost:8080/"
        },
        "id": "DaAsx1FDEzKV",
        "outputId": "78ac3b50-0bbe-44ca-9386-3ad137f1b998"
      },
      "execution_count": null,
      "outputs": [
        {
          "output_type": "stream",
          "name": "stdout",
          "text": [
            "NNBinary Classifier Testing Data set: ROC Score = 0.870\n"
          ]
        }
      ]
    },
    {
      "cell_type": "markdown",
      "source": [
        "\"model.predict\" refers to a method in machine learning where a trained model is used to make predictions on new data. The \"model\" refers to the machine learning algorithm that has been trained on a dataset, and \"predict\" is the function used to make predictions on new data. In order to use this method, the input data must be preprocessed in the same way as the training data, and the output of the prediction will depend on the type of model being used (e.g. regression for continuous output, classification for categorical output)."
      ],
      "metadata": {
        "id": "_6GcrZ9E9vEE"
      }
    },
    {
      "cell_type": "markdown",
      "source": [
        "method called \"predict_proba\" in a machine learning model. \"predict_proba\" is a method used to predict the probability of a certain outcome or class in a classification problem. It is commonly used in supervised learning algorithms such as logistic regression, decision trees, and random forests. The output of this method is a probability score between 0 and 1 for each class, indicating the likelihood of the input belonging to that class."
      ],
      "metadata": {
        "id": "x-pJ5CLd92ni"
      }
    }
  ]
}